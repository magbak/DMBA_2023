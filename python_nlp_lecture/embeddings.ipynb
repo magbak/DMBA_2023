{
 "cells": [
  {
   "cell_type": "code",
   "execution_count": 14,
   "id": "initial_id",
   "metadata": {},
   "outputs": [],
   "source": [
    "# Based loosely on:\n",
    "# https://www.askpython.com/python-modules/gensim-word2vec\n",
    "# By Yogesh Sharma / June 17, 2021\n",
    "# Accessed August 27th 2023"
   ]
  },
  {
   "cell_type": "code",
   "execution_count": 15,
   "id": "bb9e86a5",
   "metadata": {},
   "outputs": [],
   "source": [
    "# conda install -c conda-forge gensim"
   ]
  },
  {
   "cell_type": "code",
   "execution_count": 16,
   "id": "c71b8040",
   "metadata": {},
   "outputs": [],
   "source": [
    "from sklearn.decomposition import PCA\n",
    "from matplotlib import pyplot\n",
    "import numpy as np\n",
    "import gensim\n",
    "import gensim.downloader"
   ]
  },
  {
   "cell_type": "code",
   "execution_count": 38,
   "id": "b2aad2e2",
   "metadata": {},
   "outputs": [],
   "source": [
    "tw_emb = \"glove-twitter-25\" #105mb\n",
    "wi50_emb = \"glove-wiki-gigaword-50\" #66mb\n",
    "wi300_emb = \"glove-wiki-gigaword-300\" #376mb"
   ]
  },
  {
   "cell_type": "code",
   "execution_count": 39,
   "id": "9b128af0",
   "metadata": {},
   "outputs": [
    {
     "name": "stdout",
     "output_type": "stream",
     "text": [
      "[==================================================] 100.0% 376.1/376.1MB downloaded\n"
     ]
    }
   ],
   "source": [
    "embs = gensim.downloader.load(wi300_emb)"
   ]
  },
  {
   "cell_type": "code",
   "execution_count": 53,
   "id": "44cc87d3",
   "metadata": {},
   "outputs": [
    {
     "data": {
      "text/plain": [
       "['__class__',\n",
       " '__contains__',\n",
       " '__delattr__',\n",
       " '__dict__',\n",
       " '__dir__',\n",
       " '__doc__',\n",
       " '__eq__',\n",
       " '__format__',\n",
       " '__ge__',\n",
       " '__getattribute__',\n",
       " '__getitem__',\n",
       " '__gt__',\n",
       " '__hash__',\n",
       " '__init__',\n",
       " '__init_subclass__',\n",
       " '__le__',\n",
       " '__len__',\n",
       " '__lt__',\n",
       " '__module__',\n",
       " '__ne__',\n",
       " '__new__',\n",
       " '__reduce__',\n",
       " '__reduce_ex__',\n",
       " '__repr__',\n",
       " '__setattr__',\n",
       " '__setitem__',\n",
       " '__sizeof__',\n",
       " '__str__',\n",
       " '__subclasshook__',\n",
       " '__weakref__',\n",
       " '_adapt_by_suffix',\n",
       " '_load_specials',\n",
       " '_log_evaluate_word_analogies',\n",
       " '_save_specials',\n",
       " '_smart_save',\n",
       " '_upconvert_old_d2vkv',\n",
       " '_upconvert_old_vocab',\n",
       " 'add_lifecycle_event',\n",
       " 'add_vector',\n",
       " 'add_vectors',\n",
       " 'allocate_vecattrs',\n",
       " 'closer_than',\n",
       " 'cosine_similarities',\n",
       " 'distance',\n",
       " 'distances',\n",
       " 'doesnt_match',\n",
       " 'evaluate_word_analogies',\n",
       " 'evaluate_word_pairs',\n",
       " 'expandos',\n",
       " 'fill_norms',\n",
       " 'get_index',\n",
       " 'get_mean_vector',\n",
       " 'get_normed_vectors',\n",
       " 'get_vecattr',\n",
       " 'get_vector',\n",
       " 'has_index_for',\n",
       " 'index2entity',\n",
       " 'index2word',\n",
       " 'index_to_key',\n",
       " 'init_sims',\n",
       " 'intersect_word2vec_format',\n",
       " 'key_to_index',\n",
       " 'lifecycle_events',\n",
       " 'load',\n",
       " 'load_word2vec_format',\n",
       " 'log_accuracy',\n",
       " 'log_evaluate_word_pairs',\n",
       " 'mapfile_path',\n",
       " 'most_similar',\n",
       " 'most_similar_cosmul',\n",
       " 'most_similar_to_given',\n",
       " 'n_similarity',\n",
       " 'next_index',\n",
       " 'norms',\n",
       " 'rank',\n",
       " 'rank_by_centrality',\n",
       " 'relative_cosine_similarity',\n",
       " 'resize_vectors',\n",
       " 'save',\n",
       " 'save_word2vec_format',\n",
       " 'set_vecattr',\n",
       " 'similar_by_key',\n",
       " 'similar_by_vector',\n",
       " 'similar_by_word',\n",
       " 'similarity',\n",
       " 'similarity_unseen_docs',\n",
       " 'sort_by_descending_frequency',\n",
       " 'unit_normalize_all',\n",
       " 'vector_size',\n",
       " 'vectors',\n",
       " 'vectors_for_all',\n",
       " 'vectors_norm',\n",
       " 'vocab',\n",
       " 'wmdistance',\n",
       " 'word_vec',\n",
       " 'words_closer_than']"
      ]
     },
     "execution_count": 53,
     "metadata": {},
     "output_type": "execute_result"
    }
   ],
   "source": [
    "dir(embs)"
   ]
  },
  {
   "cell_type": "code",
   "execution_count": 45,
   "id": "a510aae3",
   "metadata": {},
   "outputs": [
    {
     "data": {
      "text/plain": [
       "0.33191258"
      ]
     },
     "execution_count": 45,
     "metadata": {},
     "output_type": "execute_result"
    }
   ],
   "source": [
    "embs.similarity(\"horten\", \"tønsberg\")"
   ]
  },
  {
   "cell_type": "code",
   "execution_count": 46,
   "id": "ec471dfe",
   "metadata": {},
   "outputs": [
    {
     "data": {
      "text/plain": [
       "0.6006609"
      ]
     },
     "execution_count": 46,
     "metadata": {},
     "output_type": "execute_result"
    }
   ],
   "source": [
    "embs.similarity(\"oslo\", \"stockholm\")"
   ]
  },
  {
   "cell_type": "code",
   "execution_count": 47,
   "id": "5f8a1e3f",
   "metadata": {},
   "outputs": [
    {
     "data": {
      "text/plain": [
       "0.41230464"
      ]
     },
     "execution_count": 47,
     "metadata": {},
     "output_type": "execute_result"
    }
   ],
   "source": [
    "embs.similarity(\"bicycle\", \"moped\")"
   ]
  },
  {
   "cell_type": "code",
   "execution_count": 49,
   "id": "0ec14bbc",
   "metadata": {},
   "outputs": [
    {
     "data": {
      "text/plain": [
       "-0.025343984"
      ]
     },
     "execution_count": 49,
     "metadata": {},
     "output_type": "execute_result"
    }
   ],
   "source": [
    "embs.similarity(\"bicycle\", \"cake\")"
   ]
  },
  {
   "cell_type": "code",
   "execution_count": 51,
   "id": "656a100f",
   "metadata": {},
   "outputs": [
    {
     "data": {
      "text/plain": [
       "[('vauxhall', 0.6387993693351746),\n",
       " ('daimlerchrysler', 0.5732048749923706),\n",
       " ('vw', 0.5702887177467346),\n",
       " ('chrysler', 0.5691757798194885),\n",
       " ('automaker', 0.565222442150116),\n",
       " ('gm', 0.5620226263999939),\n",
       " ('volkswagen', 0.5616093277931213),\n",
       " ('carmaker', 0.5614608526229858),\n",
       " ('fiat', 0.5512166023254395),\n",
       " ('saab', 0.5371128916740417)]"
      ]
     },
     "execution_count": 51,
     "metadata": {},
     "output_type": "execute_result"
    }
   ],
   "source": [
    "embs.most_similar(\"opel\")"
   ]
  },
  {
   "cell_type": "code",
   "execution_count": 54,
   "id": "11a92a38",
   "metadata": {},
   "outputs": [
    {
     "data": {
      "text/plain": [
       "array([ 2.1579e-01,  6.6852e-01, -8.0420e-02,  1.8108e-01, -4.4197e-01,\n",
       "       -2.4902e-01, -1.8386e-01,  9.8850e-02, -2.6528e-01, -1.3139e+00,\n",
       "        5.7798e-01,  4.7818e-01, -4.3253e-01,  8.9351e-02,  1.7348e-01,\n",
       "       -3.2984e-04, -1.2413e-01,  2.9846e-01,  4.5563e-02, -7.9508e-01,\n",
       "        1.0203e+00,  2.9650e-01,  7.9725e-01, -4.9302e-01,  7.9356e-01,\n",
       "       -4.9700e-01, -8.6235e-02,  6.5467e-01, -1.2206e-01,  4.3290e-01,\n",
       "       -3.5990e-01, -4.5599e-01,  3.2817e-01,  4.7819e-01, -5.3992e-03,\n",
       "        2.7541e-01,  4.5943e-01,  2.7115e-01,  3.2466e-01, -6.5497e-02,\n",
       "       -2.4207e-01, -1.3828e-01, -2.0602e-01,  3.8766e-01,  7.7135e-02,\n",
       "       -2.7122e-01,  3.9359e-01,  3.0966e-01, -3.9319e-01, -5.6454e-01,\n",
       "       -2.6507e-01, -4.0454e-01,  5.7565e-01, -5.3755e-01, -3.9321e-01,\n",
       "        1.2268e-01,  2.5601e-01,  8.0117e-01, -5.6924e-03,  4.8002e-01,\n",
       "       -4.9247e-01, -3.4678e-01, -6.2382e-01, -3.7092e-01, -2.1616e-02,\n",
       "        2.4126e-01, -3.6738e-01,  1.8786e-01,  2.1870e-01, -2.8714e-02,\n",
       "       -6.8345e-01,  6.8404e-01,  4.4801e-01,  1.7563e-01, -2.4524e-01,\n",
       "       -2.6602e-01, -9.4633e-01,  2.5053e-01,  4.9223e-01, -1.1860e-01,\n",
       "       -1.5141e-01, -2.5156e-01, -2.8118e-01, -1.3269e-01,  2.7973e-02,\n",
       "       -1.0846e-02, -2.3947e-01,  9.1250e-01, -7.5443e-01,  2.8608e-01,\n",
       "        2.3370e-01,  4.1173e-01, -3.7481e-01, -2.2409e-01,  7.0259e-01,\n",
       "       -1.1621e+00,  4.3460e-01, -1.5802e-01, -4.9757e-01, -4.0013e-01,\n",
       "        7.5774e-01, -1.0273e-01,  5.2634e-01,  5.7448e-02,  1.0789e-01,\n",
       "       -5.8614e-01,  1.0401e-01, -2.6623e-01, -7.8956e-01, -5.2412e-01,\n",
       "        5.5707e-01,  8.5120e-01, -4.8122e-01, -2.4094e-01, -8.2840e-01,\n",
       "        2.8757e-01,  2.3178e-01,  5.2347e-01,  7.6294e-02, -1.9954e-01,\n",
       "        7.6255e-02,  2.2845e-03,  8.3639e-02,  2.4400e-01,  2.2219e-03,\n",
       "       -1.2608e-01,  4.5894e-01,  5.5525e-01,  1.4104e-01, -7.4196e-01,\n",
       "        9.4934e-01,  4.2172e-01, -2.7753e-02, -2.0001e-01, -4.7689e-01,\n",
       "        1.3671e-01, -2.7503e-01, -3.7818e-01,  5.0172e-01, -3.3899e-01,\n",
       "        3.9694e-01, -7.4312e-02,  4.5413e-01, -3.3622e-01,  5.4880e-01,\n",
       "       -4.5021e-02, -3.6068e-01, -1.1343e+00, -1.9833e-01,  3.1973e-01,\n",
       "        5.4137e-01, -3.0338e-01,  6.2817e-01, -2.9181e-01, -2.8655e-02,\n",
       "        5.0700e-03,  2.8587e-01,  6.7197e-02, -3.3578e-02,  4.4040e-01,\n",
       "       -4.4665e-01,  1.7519e-01, -7.6122e-01,  6.2878e-01, -2.9696e-01,\n",
       "        4.4620e-01,  8.5457e-02,  6.7669e-01,  3.1407e-01, -4.4122e-01,\n",
       "       -3.0558e-01,  1.0151e-01,  2.7106e-01,  2.9319e-02,  4.0709e-01,\n",
       "        2.1147e-01,  7.8405e-02,  7.1220e-02,  3.0620e-01,  1.0750e-01,\n",
       "        6.3993e-01, -8.6024e-02,  6.7558e-03, -5.5722e-01,  6.0888e-01,\n",
       "       -4.8727e-01, -9.8300e-01, -9.0784e-01,  1.2566e+00, -4.1466e-02,\n",
       "       -2.6982e-01, -2.5949e-01, -7.0015e-01, -2.5455e-02,  1.6008e-01,\n",
       "       -5.8811e-01,  3.6842e-01, -2.1002e-01,  1.6040e-01, -1.9435e-01,\n",
       "       -5.5421e-02,  2.8744e-02, -5.4666e-01,  5.2426e-01, -5.6681e-01,\n",
       "       -6.6572e-01, -2.9704e-02, -8.2259e-01,  5.2797e-01, -3.1982e-01,\n",
       "        2.3070e-01,  2.2358e-01,  3.5503e-01,  1.3103e-01,  1.2380e-01,\n",
       "       -1.1213e-02, -1.0998e-01,  5.8168e-01,  7.9563e-02, -5.0289e-01,\n",
       "       -3.3824e-01, -3.6117e-01, -5.5022e-01,  3.5463e-05, -5.2996e-01,\n",
       "        6.5076e-01,  5.9473e-02, -1.2326e-02,  2.1711e-01, -6.5465e-01,\n",
       "        3.5359e-01, -8.1418e-01,  5.9245e-01,  4.4460e-01,  4.5557e-01,\n",
       "        1.5957e-01,  8.8179e-01,  4.7684e-01, -5.1021e-01, -2.4411e-01,\n",
       "       -1.4020e-01, -2.5096e-01,  2.3799e-01,  1.2958e-01,  3.5441e-02,\n",
       "       -4.8755e-01,  4.4306e-01,  3.7339e-01, -1.9142e-01,  5.4303e-01,\n",
       "       -1.1546e-01,  4.1640e-01, -1.9171e-03,  1.5966e-01,  1.1650e-01,\n",
       "       -8.2337e-01, -1.0707e+00,  5.6598e-01,  9.8025e-01,  2.1202e-01,\n",
       "        7.9142e-01, -1.2919e-01, -7.9118e-02,  2.8313e-02, -4.4316e-01,\n",
       "        3.2005e-01,  2.8523e-01, -2.6067e-01, -5.4646e-01, -5.5492e-01,\n",
       "       -1.4307e-01,  4.3634e-01, -9.6866e-01, -5.1959e-01,  1.0644e+00,\n",
       "        3.0072e-01,  6.2771e-01, -1.0819e+00,  2.8030e-01,  3.8494e-02,\n",
       "       -1.1261e-01,  4.5706e-01, -5.7087e-01, -5.3450e-01,  2.6586e-01,\n",
       "        1.7493e-01,  1.0479e+00, -2.6148e-01,  3.0365e-01,  1.0207e-01,\n",
       "       -2.6113e-02, -3.3439e-02,  9.4528e-01, -4.5873e-01,  2.7957e-01,\n",
       "        1.5998e-01,  2.2010e-01,  5.8864e-01,  1.4103e-01,  6.4886e-01],\n",
       "      dtype=float32)"
      ]
     },
     "execution_count": 54,
     "metadata": {},
     "output_type": "execute_result"
    }
   ],
   "source": [
    "embs.get_vector(\"opel\")"
   ]
  },
  {
   "cell_type": "code",
   "execution_count": null,
   "id": "63e79987",
   "metadata": {},
   "outputs": [],
   "source": []
  }
 ],
 "metadata": {
  "kernelspec": {
   "display_name": "Python 3 (ipykernel)",
   "language": "python",
   "name": "python3"
  },
  "language_info": {
   "codemirror_mode": {
    "name": "ipython",
    "version": 3
   },
   "file_extension": ".py",
   "mimetype": "text/x-python",
   "name": "python",
   "nbconvert_exporter": "python",
   "pygments_lexer": "ipython3",
   "version": "3.10.12"
  }
 },
 "nbformat": 4,
 "nbformat_minor": 5
}
