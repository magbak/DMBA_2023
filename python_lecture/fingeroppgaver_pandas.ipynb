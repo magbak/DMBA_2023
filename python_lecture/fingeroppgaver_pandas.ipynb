{
 "cells": [
  {
   "cell_type": "code",
   "execution_count": null,
   "id": "40c0b361",
   "metadata": {},
   "outputs": [],
   "source": [
    "# Exercises from\n",
    "# https://codesolid.github.io/exercises/PandasExercises.html\n",
    "# By John Lockwood\n",
    "# Accessed 30.08.2023\n",
    "\n",
    "# to get datasets:\n",
    "# conda install seaborn"
   ]
  },
  {
   "cell_type": "code",
   "execution_count": null,
   "id": "db5feff2",
   "metadata": {},
   "outputs": [],
   "source": [
    "import seaborn as sb\n",
    "import pandas as pd"
   ]
  },
  {
   "cell_type": "code",
   "execution_count": null,
   "id": "4fcdb86b",
   "metadata": {},
   "outputs": [],
   "source": [
    "df_p = sb.load_dataset('penguins')"
   ]
  },
  {
   "cell_type": "code",
   "execution_count": null,
   "id": "8af2f898",
   "metadata": {},
   "outputs": [],
   "source": [
    "df_p"
   ]
  },
  {
   "cell_type": "code",
   "execution_count": null,
   "id": "572f7036",
   "metadata": {},
   "outputs": [],
   "source": [
    "# 12. Write the code to show the the number of rows and columns in df_penguins\n",
    "df_p.shape\n",
    "#print(len(df_p))\n",
    "#print(len(df_p.columns))"
   ]
  },
  {
   "cell_type": "code",
   "execution_count": null,
   "id": "89fde58d",
   "metadata": {},
   "outputs": [],
   "source": [
    "# 13. How might you show the first few rows of df_penguins?\n",
    "df_p.head(5)"
   ]
  },
  {
   "cell_type": "code",
   "execution_count": null,
   "id": "0539b8c0",
   "metadata": {},
   "outputs": [],
   "source": [
    "# 14. How can you return the unique species of penguins from df_penguins? How many unique species are there?\n",
    "df_p[\"species\"].unique()"
   ]
  },
  {
   "cell_type": "code",
   "execution_count": null,
   "id": "0bbf0361",
   "metadata": {},
   "outputs": [],
   "source": [
    "#15. What function can we use to drop the rows that have missing data?"
   ]
  },
  {
   "cell_type": "code",
   "execution_count": null,
   "id": "c589691c",
   "metadata": {},
   "outputs": [],
   "source": []
  },
  {
   "cell_type": "code",
   "execution_count": null,
   "id": "703387b2",
   "metadata": {},
   "outputs": [],
   "source": [
    "#16. By default, will this modify df_penguins or will it return a copy?\n",
    "df_p"
   ]
  },
  {
   "cell_type": "code",
   "execution_count": null,
   "id": "bfbc5e07",
   "metadata": {},
   "outputs": [],
   "source": [
    "#17. How can we override the default?"
   ]
  },
  {
   "cell_type": "code",
   "execution_count": null,
   "id": "13b28e5d",
   "metadata": {},
   "outputs": [],
   "source": [
    "#18. Create a new DataFrame, df_penguins_full, with the missing data deleted.\n",
    "df_p_full = df_p.dropna()"
   ]
  },
  {
   "cell_type": "code",
   "execution_count": null,
   "id": "4b842a5f",
   "metadata": {},
   "outputs": [],
   "source": [
    "#19. What is the average bill length of a penguin, in millimeters, in this (df_full) data set?"
   ]
  },
  {
   "cell_type": "code",
   "execution_count": null,
   "id": "e9b8e1aa",
   "metadata": {},
   "outputs": [],
   "source": [
    "df_p_full[\"bill_length_mm\"].mean()"
   ]
  },
  {
   "cell_type": "code",
   "execution_count": null,
   "id": "2527edf5",
   "metadata": {},
   "outputs": [],
   "source": [
    "# Denne dropper vi foreløpig.. \n",
    "#20. Which of the following is most strongly correlated with bill length?\n",
    "#a) Body mass? b) Flipper length? c) Bill depth? Show how you arrived at the answer.\n",
    "df_p_full[[\"bill_length_mm\", \"flipper_length_mm\"]].cov()"
   ]
  },
  {
   "cell_type": "code",
   "execution_count": null,
   "id": "c8608454",
   "metadata": {},
   "outputs": [],
   "source": [
    "#21. How could you show the median flipper length, grouped by species?\n",
    "df_p_full[[\"species\", \"flipper_length_mm\"]].groupby(\"species\").median()"
   ]
  },
  {
   "cell_type": "code",
   "execution_count": null,
   "id": "72736f03",
   "metadata": {},
   "outputs": [],
   "source": [
    "#22. Which species has the longest flippers?"
   ]
  },
  {
   "cell_type": "code",
   "execution_count": null,
   "id": "7e639285",
   "metadata": {},
   "outputs": [],
   "source": [
    "df_p_full[[\"species\", \"flipper_length_mm\"]].groupby(\"species\").max()"
   ]
  },
  {
   "cell_type": "code",
   "execution_count": null,
   "id": "52d52d98",
   "metadata": {},
   "outputs": [],
   "source": [
    "#23. Which two species have the most similar mean weight? Show how you arrived at the answer."
   ]
  },
  {
   "cell_type": "code",
   "execution_count": null,
   "id": "e25fe93b",
   "metadata": {},
   "outputs": [],
   "source": [
    "df_p_full[[\"species\", \"body_mass_g\"]].groupby(\"species\").mean()"
   ]
  },
  {
   "cell_type": "code",
   "execution_count": null,
   "id": "f504816a",
   "metadata": {},
   "outputs": [],
   "source": [
    "#24. How could you sort the rows by bill length?\n",
    "df_p.sort_values(\"bill_length_mm\")"
   ]
  },
  {
   "cell_type": "code",
   "execution_count": null,
   "id": "823eeb9e",
   "metadata": {},
   "outputs": [],
   "source": [
    "#25. How could you run the same sort in descending order?\n",
    "df_p.sort_values(\"bill_length_mm\", ascending=False)"
   ]
  },
  {
   "cell_type": "code",
   "execution_count": null,
   "id": "b7c2ac8b",
   "metadata": {},
   "outputs": [],
   "source": [
    "#26. How could you sort by species first, then by body mass?\n",
    "df_p.sort_values([\"species\", \"body_mass_g\"], ascending=[True,False])"
   ]
  },
  {
   "cell_type": "markdown",
   "id": "0eacb63f",
   "metadata": {},
   "source": [
    "27. Load the Seaborn “diamonds” dataset into a Pandas dataframe named diamonds."
   ]
  },
  {
   "cell_type": "code",
   "execution_count": null,
   "id": "113e0aa9",
   "metadata": {},
   "outputs": [],
   "source": [
    "dia = sb.load_dataset('diamonds')"
   ]
  },
  {
   "cell_type": "code",
   "execution_count": null,
   "id": "515e6c61",
   "metadata": {},
   "outputs": [],
   "source": [
    "#28. Display the columns that are available.\n",
    "dia.columns"
   ]
  },
  {
   "cell_type": "code",
   "execution_count": null,
   "id": "4786f192",
   "metadata": {},
   "outputs": [],
   "source": [
    "dia.dtypes"
   ]
  },
  {
   "cell_type": "code",
   "execution_count": null,
   "id": "52c8e52a",
   "metadata": {},
   "outputs": [],
   "source": [
    "#29. If you select a single column from the diamonds DataFrame, \n",
    "# what will be the type of the return value?"
   ]
  },
  {
   "cell_type": "code",
   "execution_count": null,
   "id": "60e8bd02",
   "metadata": {},
   "outputs": [],
   "source": [
    "type(dia[\"cut\"])"
   ]
  },
  {
   "cell_type": "code",
   "execution_count": null,
   "id": "71e1876c",
   "metadata": {},
   "outputs": [],
   "source": [
    "#30. Select the ‘table’ column and show its type"
   ]
  },
  {
   "cell_type": "code",
   "execution_count": null,
   "id": "e382ce84",
   "metadata": {},
   "outputs": [],
   "source": [
    "dia[\"table\"].dtype"
   ]
  },
  {
   "cell_type": "code",
   "execution_count": null,
   "id": "55da5e1c",
   "metadata": {},
   "outputs": [],
   "source": [
    "#31. Select the first ten rows of the price and carat columns \n",
    "# ten rows of the diamonds DataFrame into a variable called subset, and display them."
   ]
  },
  {
   "cell_type": "code",
   "execution_count": null,
   "id": "96e13437",
   "metadata": {},
   "outputs": [],
   "source": [
    "subset = dia[[\"price\", \"carat\"]].sort_values(by=[\"price\"], ascending=False).head(10)\n",
    "subset"
   ]
  },
  {
   "cell_type": "code",
   "execution_count": null,
   "id": "4511587d",
   "metadata": {},
   "outputs": [],
   "source": [
    "#33. Select the first row of the diamonds DataFrame into a variable called row."
   ]
  },
  {
   "cell_type": "code",
   "execution_count": null,
   "id": "8a1219db",
   "metadata": {},
   "outputs": [],
   "source": [
    "dia.head(1)"
   ]
  },
  {
   "cell_type": "code",
   "execution_count": null,
   "id": "6ee8f858",
   "metadata": {},
   "outputs": [],
   "source": [
    "dia.iloc[4:5,0:3]"
   ]
  },
  {
   "cell_type": "code",
   "execution_count": null,
   "id": "9bc16b70",
   "metadata": {},
   "outputs": [],
   "source": [
    "#36. Select the row with the highest priced diamond."
   ]
  },
  {
   "cell_type": "code",
   "execution_count": null,
   "id": "2770a147",
   "metadata": {},
   "outputs": [],
   "source": [
    "dia.sort_values(by=\"price\", ascending=False).head(1)"
   ]
  },
  {
   "cell_type": "code",
   "execution_count": null,
   "id": "27804f40",
   "metadata": {},
   "outputs": [],
   "source": [
    "dia.sort_values(by=\"price\", ascending=False).tail(1)"
   ]
  },
  {
   "cell_type": "code",
   "execution_count": null,
   "id": "d2c15f65",
   "metadata": {},
   "outputs": [],
   "source": [
    "# Bonus: dyreste diamant for hver kombinasjon av cut og color"
   ]
  },
  {
   "cell_type": "code",
   "execution_count": null,
   "id": "9e204e04",
   "metadata": {},
   "outputs": [],
   "source": [
    "dia[[\"cut\", \"color\", \"price\"]].groupby(by=[\"color\", \"cut\"]).max()"
   ]
  },
  {
   "cell_type": "code",
   "execution_count": null,
   "id": "2db77c4d",
   "metadata": {},
   "outputs": [],
   "source": [
    "# Bonus: scatter-plot med carat på x-aksen, pris på y-aksen"
   ]
  },
  {
   "cell_type": "code",
   "execution_count": null,
   "id": "6572942d",
   "metadata": {},
   "outputs": [],
   "source": [
    "dia.plot.scatter(\"carat\", \"price\", s=0.5)"
   ]
  },
  {
   "cell_type": "code",
   "execution_count": null,
   "id": "167a09ca",
   "metadata": {},
   "outputs": [],
   "source": []
  }
 ],
 "metadata": {
  "kernelspec": {
   "display_name": "Python 3 (ipykernel)",
   "language": "python",
   "name": "python3"
  },
  "language_info": {
   "codemirror_mode": {
    "name": "ipython",
    "version": 3
   },
   "file_extension": ".py",
   "mimetype": "text/x-python",
   "name": "python",
   "nbconvert_exporter": "python",
   "pygments_lexer": "ipython3",
   "version": "3.10.12"
  }
 },
 "nbformat": 4,
 "nbformat_minor": 5
}
