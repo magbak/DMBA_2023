{
 "cells": [
  {
   "cell_type": "code",
   "execution_count": 1,
   "id": "initial_id",
   "metadata": {
    "ExecuteTime": {
     "end_time": "2023-08-14T07:57:53.979481936Z",
     "start_time": "2023-08-14T07:57:53.871125289Z"
    }
   },
   "outputs": [],
   "source": [
    "import time\n",
    "import numpy as np"
   ]
  },
  {
   "cell_type": "code",
   "execution_count": 2,
   "id": "81bc0e88547c1382",
   "metadata": {
    "ExecuteTime": {
     "end_time": "2023-08-14T07:58:10.152173551Z",
     "start_time": "2023-08-14T07:58:10.131681856Z"
    }
   },
   "outputs": [
    {
     "data": {
      "text/plain": [
       "array([[1, 2, 3],\n",
       "       [4, 5, 6],\n",
       "       [7, 8, 9]])"
      ]
     },
     "execution_count": 2,
     "metadata": {},
     "output_type": "execute_result"
    }
   ],
   "source": [
    "a = np.array([[1,2,3],[4,5,6],[7,8,9]])\n",
    "a"
   ]
  },
  {
   "cell_type": "markdown",
   "id": "d6b2003c",
   "metadata": {},
   "source": [
    "## Slicing and dicing"
   ]
  },
  {
   "cell_type": "code",
   "execution_count": 5,
   "id": "d51724dcdccadc5e",
   "metadata": {
    "ExecuteTime": {
     "end_time": "2023-08-14T08:00:58.409011897Z",
     "start_time": "2023-08-14T08:00:58.352202677Z"
    }
   },
   "outputs": [
    {
     "data": {
      "text/plain": [
       "9"
      ]
     },
     "execution_count": 5,
     "metadata": {},
     "output_type": "execute_result"
    }
   ],
   "source": [
    "a[2,2]"
   ]
  },
  {
   "cell_type": "code",
   "execution_count": 6,
   "id": "f00ec9c2c0b3a013",
   "metadata": {
    "ExecuteTime": {
     "end_time": "2023-08-14T07:59:16.705193506Z",
     "start_time": "2023-08-14T07:59:16.663828138Z"
    }
   },
   "outputs": [
    {
     "data": {
      "text/plain": [
       "array([3, 6, 9])"
      ]
     },
     "execution_count": 6,
     "metadata": {},
     "output_type": "execute_result"
    }
   ],
   "source": [
    "a[:,2]"
   ]
  },
  {
   "cell_type": "code",
   "execution_count": 7,
   "id": "20ebc214d9862e1",
   "metadata": {
    "ExecuteTime": {
     "end_time": "2023-08-14T07:59:25.675071794Z",
     "start_time": "2023-08-14T07:59:25.627340424Z"
    }
   },
   "outputs": [
    {
     "data": {
      "text/plain": [
       "array([7, 8, 9])"
      ]
     },
     "execution_count": 7,
     "metadata": {},
     "output_type": "execute_result"
    }
   ],
   "source": [
    "a[2,:]"
   ]
  },
  {
   "cell_type": "code",
   "execution_count": 8,
   "id": "daed60ca44068ee9",
   "metadata": {
    "ExecuteTime": {
     "end_time": "2023-08-14T08:03:06.558370692Z",
     "start_time": "2023-08-14T08:03:06.536834530Z"
    }
   },
   "outputs": [
    {
     "data": {
      "text/plain": [
       "array([[5, 6],\n",
       "       [8, 9]])"
      ]
     },
     "execution_count": 8,
     "metadata": {},
     "output_type": "execute_result"
    }
   ],
   "source": [
    "a[1:,1:]"
   ]
  },
  {
   "cell_type": "markdown",
   "id": "dd0bbf2a",
   "metadata": {},
   "source": [
    "## Metadata"
   ]
  },
  {
   "cell_type": "code",
   "execution_count": 9,
   "id": "bc921c2d",
   "metadata": {},
   "outputs": [
    {
     "data": {
      "text/plain": [
       "(3, 3)"
      ]
     },
     "execution_count": 9,
     "metadata": {},
     "output_type": "execute_result"
    }
   ],
   "source": [
    "a.shape #Rows, cols"
   ]
  },
  {
   "cell_type": "code",
   "execution_count": 10,
   "id": "d97e6545",
   "metadata": {},
   "outputs": [
    {
     "data": {
      "text/plain": [
       "dtype('int64')"
      ]
     },
     "execution_count": 10,
     "metadata": {},
     "output_type": "execute_result"
    }
   ],
   "source": [
    "a.dtype"
   ]
  },
  {
   "cell_type": "markdown",
   "id": "3d3f2321fcc73935",
   "metadata": {},
   "source": [
    "## Assignment"
   ]
  },
  {
   "cell_type": "code",
   "execution_count": 11,
   "id": "adddb2b4fe0e7997",
   "metadata": {
    "ExecuteTime": {
     "end_time": "2023-08-14T08:04:53.622297608Z",
     "start_time": "2023-08-14T08:04:53.497879100Z"
    }
   },
   "outputs": [
    {
     "data": {
      "text/plain": [
       "array([[ 1,  2,  3],\n",
       "       [ 4, 99,  6],\n",
       "       [ 7,  8,  9]])"
      ]
     },
     "execution_count": 11,
     "metadata": {},
     "output_type": "execute_result"
    }
   ],
   "source": [
    "a[1,1] = 99\n",
    "a"
   ]
  },
  {
   "cell_type": "markdown",
   "id": "72171268",
   "metadata": {},
   "source": [
    "## Broadcasting"
   ]
  },
  {
   "cell_type": "code",
   "execution_count": 14,
   "id": "f5dcb76b188685e6",
   "metadata": {
    "ExecuteTime": {
     "end_time": "2023-08-14T08:05:35.971082275Z",
     "start_time": "2023-08-14T08:05:35.913282334Z"
    }
   },
   "outputs": [
    {
     "data": {
      "text/plain": [
       "array([[42, 42, 42],\n",
       "       [ 4, 99,  6],\n",
       "       [ 7,  8,  9]])"
      ]
     },
     "execution_count": 14,
     "metadata": {},
     "output_type": "execute_result"
    }
   ],
   "source": [
    "a[0,:] = 42\n",
    "a"
   ]
  },
  {
   "cell_type": "code",
   "execution_count": 15,
   "id": "c7ae13d95b7a263c",
   "metadata": {
    "ExecuteTime": {
     "end_time": "2023-08-14T08:09:38.605219400Z",
     "start_time": "2023-08-14T08:09:38.559814026Z"
    }
   },
   "outputs": [
    {
     "data": {
      "text/plain": [
       "array([1764,  396,   56])"
      ]
     },
     "execution_count": 15,
     "metadata": {},
     "output_type": "execute_result"
    }
   ],
   "source": [
    "a[:,0] * a[:,1]"
   ]
  },
  {
   "cell_type": "code",
   "execution_count": 16,
   "id": "fac0333b9cbd0a03",
   "metadata": {
    "ExecuteTime": {
     "end_time": "2023-08-14T08:10:12.627656862Z",
     "start_time": "2023-08-14T08:10:12.592013596Z"
    }
   },
   "outputs": [
    {
     "data": {
      "text/plain": [
       "array([ 84, 103,  15])"
      ]
     },
     "execution_count": 16,
     "metadata": {},
     "output_type": "execute_result"
    }
   ],
   "source": [
    "a[:,0] + a[:,1]"
   ]
  },
  {
   "cell_type": "markdown",
   "id": "9565c6b4",
   "metadata": {},
   "source": [
    "## Transposing"
   ]
  },
  {
   "cell_type": "code",
   "execution_count": 17,
   "id": "f72e58ed6d9bca32",
   "metadata": {
    "ExecuteTime": {
     "end_time": "2023-08-14T08:06:55.294270719Z",
     "start_time": "2023-08-14T08:06:55.232475981Z"
    }
   },
   "outputs": [
    {
     "data": {
      "text/plain": [
       "array([[42,  4,  7],\n",
       "       [42, 99,  8],\n",
       "       [42,  6,  9]])"
      ]
     },
     "execution_count": 17,
     "metadata": {},
     "output_type": "execute_result"
    }
   ],
   "source": [
    "a.T"
   ]
  },
  {
   "cell_type": "code",
   "execution_count": 18,
   "id": "d17b8059fe8bd299",
   "metadata": {
    "ExecuteTime": {
     "end_time": "2023-08-14T08:11:14.155039802Z",
     "start_time": "2023-08-14T08:11:14.134585856Z"
    }
   },
   "outputs": [
    {
     "data": {
      "text/plain": [
       "array([  100,  1000, 10000])"
      ]
     },
     "execution_count": 18,
     "metadata": {},
     "output_type": "execute_result"
    }
   ],
   "source": [
    "b = np.array([100,1000,10000])\n",
    "b"
   ]
  },
  {
   "cell_type": "code",
   "execution_count": 19,
   "id": "288138c6e7c0ccd0",
   "metadata": {
    "ExecuteTime": {
     "end_time": "2023-08-14T08:11:29.046489373Z",
     "start_time": "2023-08-14T08:11:29.004816713Z"
    }
   },
   "outputs": [
    {
     "data": {
      "text/plain": [
       "array([  100,  1000, 10000])"
      ]
     },
     "execution_count": 19,
     "metadata": {},
     "output_type": "execute_result"
    }
   ],
   "source": [
    "b.T"
   ]
  },
  {
   "cell_type": "code",
   "execution_count": 20,
   "id": "f4ac752b127e8bd4",
   "metadata": {
    "ExecuteTime": {
     "start_time": "2023-08-14T08:11:38.663808962Z"
    }
   },
   "outputs": [
    {
     "data": {
      "text/plain": [
       "array([[  4200,  42000, 420000],\n",
       "       [   400,  99000,  60000],\n",
       "       [   700,   8000,  90000]])"
      ]
     },
     "execution_count": 20,
     "metadata": {},
     "output_type": "execute_result"
    }
   ],
   "source": [
    "a * b.T"
   ]
  },
  {
   "cell_type": "code",
   "execution_count": null,
   "id": "aec3781b",
   "metadata": {},
   "outputs": [],
   "source": [
    "## Missing values"
   ]
  },
  {
   "cell_type": "code",
   "execution_count": 21,
   "id": "ccb027a4",
   "metadata": {},
   "outputs": [
    {
     "data": {
      "text/plain": [
       "array([[1., 2., 3.],\n",
       "       [4., 5., 6.],\n",
       "       [7., 8., 9.]], dtype=float32)"
      ]
     },
     "execution_count": 21,
     "metadata": {},
     "output_type": "execute_result"
    }
   ],
   "source": [
    "a = np.array([[1,2,3],[4,5,6],[7,8,9]]).astype(np.single)\n",
    "a"
   ]
  },
  {
   "cell_type": "code",
   "execution_count": 22,
   "id": "096ce914",
   "metadata": {},
   "outputs": [
    {
     "data": {
      "text/plain": [
       "array([[nan,  2.,  3.],\n",
       "       [ 4.,  5.,  6.],\n",
       "       [ 7.,  8.,  9.]], dtype=float32)"
      ]
     },
     "execution_count": 22,
     "metadata": {},
     "output_type": "execute_result"
    }
   ],
   "source": [
    "a[0,0] = None\n",
    "a"
   ]
  },
  {
   "cell_type": "code",
   "execution_count": 23,
   "id": "1f92e0e9",
   "metadata": {},
   "outputs": [
    {
     "data": {
      "text/plain": [
       "array([[ True, False, False],\n",
       "       [False, False, False],\n",
       "       [False, False, False]])"
      ]
     },
     "execution_count": 23,
     "metadata": {},
     "output_type": "execute_result"
    }
   ],
   "source": [
    "mask1 = np.isnan(a)\n",
    "mask1"
   ]
  },
  {
   "cell_type": "markdown",
   "id": "1b5e9fbc",
   "metadata": {},
   "source": [
    "## Boolean masks"
   ]
  },
  {
   "cell_type": "code",
   "execution_count": 24,
   "id": "43a62adf",
   "metadata": {},
   "outputs": [
    {
     "data": {
      "text/plain": [
       "array([nan], dtype=float32)"
      ]
     },
     "execution_count": 24,
     "metadata": {},
     "output_type": "execute_result"
    }
   ],
   "source": [
    "a[mask1]"
   ]
  },
  {
   "cell_type": "code",
   "execution_count": 25,
   "id": "bb9c0b18",
   "metadata": {},
   "outputs": [
    {
     "data": {
      "text/plain": [
       "array([[False,  True,  True],\n",
       "       [ True,  True,  True],\n",
       "       [ True,  True,  True]])"
      ]
     },
     "execution_count": 25,
     "metadata": {},
     "output_type": "execute_result"
    }
   ],
   "source": [
    "~mask1"
   ]
  },
  {
   "cell_type": "code",
   "execution_count": 26,
   "id": "f69569aa",
   "metadata": {},
   "outputs": [
    {
     "data": {
      "text/plain": [
       "array([2., 3., 4., 5., 6., 7., 8., 9.], dtype=float32)"
      ]
     },
     "execution_count": 26,
     "metadata": {},
     "output_type": "execute_result"
    }
   ],
   "source": [
    "a[~mask1]"
   ]
  },
  {
   "cell_type": "code",
   "execution_count": 27,
   "id": "44618895",
   "metadata": {},
   "outputs": [
    {
     "data": {
      "text/plain": [
       "array([[False,  True, False],\n",
       "       [ True, False,  True],\n",
       "       [False,  True, False]])"
      ]
     },
     "execution_count": 27,
     "metadata": {},
     "output_type": "execute_result"
    }
   ],
   "source": [
    "mask2 = (a%2 == 0)\n",
    "mask2"
   ]
  },
  {
   "cell_type": "code",
   "execution_count": 28,
   "id": "dc489bd5",
   "metadata": {},
   "outputs": [
    {
     "data": {
      "text/plain": [
       "array([[ True,  True, False],\n",
       "       [ True, False,  True],\n",
       "       [False,  True, False]])"
      ]
     },
     "execution_count": 28,
     "metadata": {},
     "output_type": "execute_result"
    }
   ],
   "source": [
    "mask3 = mask1 | mask2\n",
    "mask3"
   ]
  },
  {
   "cell_type": "markdown",
   "id": "99437a67",
   "metadata": {},
   "source": [
    "## Scaling up"
   ]
  },
  {
   "cell_type": "code",
   "execution_count": 29,
   "id": "68ad38e7",
   "metadata": {},
   "outputs": [
    {
     "data": {
      "text/plain": [
       "array([0.0000000e+00, 1.0000001e-04, 2.0000002e-04, ..., 9.9999980e+02,\n",
       "       9.9999990e+02, 1.0000000e+03])"
      ]
     },
     "execution_count": 29,
     "metadata": {},
     "output_type": "execute_result"
    }
   ],
   "source": [
    "c = np.linspace(start=0, stop=1_000, num=10_000_000)\n",
    "c"
   ]
  },
  {
   "cell_type": "code",
   "execution_count": 31,
   "id": "23c24d0e",
   "metadata": {},
   "outputs": [
    {
     "data": {
      "text/plain": [
       "array([[0.00000000e+00, 1.00000010e-04, 2.00000020e-04, ...,\n",
       "        7.00000070e-04, 8.00000080e-04, 9.00000090e-04],\n",
       "       [1.00000010e-03, 1.10000011e-03, 1.20000012e-03, ...,\n",
       "        1.70000017e-03, 1.80000018e-03, 1.90000019e-03],\n",
       "       [2.00000020e-03, 2.10000021e-03, 2.20000022e-03, ...,\n",
       "        2.70000027e-03, 2.80000028e-03, 2.90000029e-03],\n",
       "       ...,\n",
       "       [9.99997100e+02, 9.99997200e+02, 9.99997300e+02, ...,\n",
       "        9.99997800e+02, 9.99997900e+02, 9.99998000e+02],\n",
       "       [9.99998100e+02, 9.99998200e+02, 9.99998300e+02, ...,\n",
       "        9.99998800e+02, 9.99998900e+02, 9.99999000e+02],\n",
       "       [9.99999100e+02, 9.99999200e+02, 9.99999300e+02, ...,\n",
       "        9.99999800e+02, 9.99999900e+02, 1.00000000e+03]])"
      ]
     },
     "execution_count": 31,
     "metadata": {},
     "output_type": "execute_result"
    }
   ],
   "source": [
    "c = c.reshape((-1, 10))\n",
    "c"
   ]
  },
  {
   "cell_type": "code",
   "execution_count": 32,
   "id": "1806182b",
   "metadata": {},
   "outputs": [
    {
     "data": {
      "text/plain": [
       "(1000000, 10)"
      ]
     },
     "execution_count": 32,
     "metadata": {},
     "output_type": "execute_result"
    }
   ],
   "source": [
    "c.shape"
   ]
  },
  {
   "cell_type": "markdown",
   "id": "57a5db4c",
   "metadata": {},
   "source": [
    "## Aggregation functions"
   ]
  },
  {
   "cell_type": "code",
   "execution_count": 34,
   "id": "6019ff9f",
   "metadata": {},
   "outputs": [
    {
     "data": {
      "text/plain": [
       "array([499.99955, 499.99965, 499.99975, 499.99985, 499.99995, 500.00005,\n",
       "       500.00015, 500.00025, 500.00035, 500.00045])"
      ]
     },
     "execution_count": 34,
     "metadata": {},
     "output_type": "execute_result"
    }
   ],
   "source": [
    "c.mean(axis=0)"
   ]
  },
  {
   "cell_type": "code",
   "execution_count": 35,
   "id": "5d190e76",
   "metadata": {},
   "outputs": [
    {
     "data": {
      "text/plain": [
       "array([4.50000045e-04, 1.45000015e-03, 2.45000025e-03, ...,\n",
       "       9.99997550e+02, 9.99998550e+02, 9.99999550e+02])"
      ]
     },
     "execution_count": 35,
     "metadata": {},
     "output_type": "execute_result"
    }
   ],
   "source": [
    "c.mean(axis=1)"
   ]
  },
  {
   "cell_type": "code",
   "execution_count": 37,
   "id": "850272c6",
   "metadata": {},
   "outputs": [
    {
     "data": {
      "text/plain": [
       "499.9999999999999"
      ]
     },
     "execution_count": 37,
     "metadata": {},
     "output_type": "execute_result"
    }
   ],
   "source": [
    "c.mean(axis=None)"
   ]
  },
  {
   "cell_type": "code",
   "execution_count": 39,
   "id": "6b8eefa8",
   "metadata": {},
   "outputs": [
    {
     "data": {
      "text/plain": [
       "array([288.67516346, 288.67516346, 288.67516346, 288.67516346,\n",
       "       288.67516346, 288.67516346, 288.67516346, 288.67516346,\n",
       "       288.67516346, 288.67516346])"
      ]
     },
     "execution_count": 39,
     "metadata": {},
     "output_type": "execute_result"
    }
   ],
   "source": [
    "c.std(axis=0)"
   ]
  },
  {
   "cell_type": "code",
   "execution_count": 40,
   "id": "5f5a360e",
   "metadata": {},
   "outputs": [
    {
     "data": {
      "text/plain": [
       "array([ 999.9991,  999.9992,  999.9993,  999.9994,  999.9995,  999.9996,\n",
       "        999.9997,  999.9998,  999.9999, 1000.    ])"
      ]
     },
     "execution_count": 40,
     "metadata": {},
     "output_type": "execute_result"
    }
   ],
   "source": [
    "c.max(axis=0)"
   ]
  },
  {
   "cell_type": "markdown",
   "id": "8c5eebae",
   "metadata": {},
   "source": [
    "## Sampling \"randomly\" generated data"
   ]
  },
  {
   "cell_type": "code",
   "execution_count": 42,
   "id": "af56caf1",
   "metadata": {},
   "outputs": [],
   "source": [
    "rng = np.random.default_rng(seed=1337)"
   ]
  },
  {
   "cell_type": "code",
   "execution_count": 43,
   "id": "eb7ea9ab",
   "metadata": {},
   "outputs": [
    {
     "data": {
      "text/plain": [
       "array([[0.8781019 , 0.18552796, 0.92090045, ..., 0.72794008, 0.8937005 ,\n",
       "        0.81058111],\n",
       "       [0.1375034 , 0.38642542, 0.39805364, ..., 0.75937242, 0.87265145,\n",
       "        0.22746494],\n",
       "       [0.47078207, 0.03034535, 0.54588502, ..., 0.74048304, 0.87665908,\n",
       "        0.04906525],\n",
       "       ...,\n",
       "       [0.25369797, 0.13674861, 0.13290901, ..., 0.2703767 , 0.89503146,\n",
       "        0.32989024],\n",
       "       [0.88795843, 0.87938783, 0.96860779, ..., 0.17029483, 0.9823097 ,\n",
       "        0.51758375],\n",
       "       [0.40936224, 0.2872502 , 0.6123626 , ..., 0.74569434, 0.11553701,\n",
       "        0.70179987]])"
      ]
     },
     "execution_count": 43,
     "metadata": {},
     "output_type": "execute_result"
    }
   ],
   "source": [
    "unif = rng.uniform(size=1_000_000).reshape((1_000,-1))\n",
    "unif"
   ]
  },
  {
   "cell_type": "code",
   "execution_count": 49,
   "id": "65c7b398",
   "metadata": {},
   "outputs": [
    {
     "data": {
      "text/plain": [
       "array([[ 1.5258859 ,  1.8670051 , -0.16517146, ...,  0.22906062,\n",
       "        -0.48327244, -0.30926583],\n",
       "       [ 0.65153916,  0.86647241, -0.07155768, ...,  1.43064447,\n",
       "         0.67949202, -0.96383389],\n",
       "       [ 1.79547187, -1.76648268,  0.46626309, ...,  1.35177437,\n",
       "         0.75600519, -0.22698251],\n",
       "       ...,\n",
       "       [-1.15089474, -0.02559881, -0.97609605, ...,  0.06756403,\n",
       "        -1.22020049,  0.87597973],\n",
       "       [ 1.10783905, -0.44369456,  1.73745396, ..., -0.48819666,\n",
       "        -1.21001165, -0.01178629],\n",
       "       [ 0.95675804, -0.17131706,  2.15961373, ...,  0.49559705,\n",
       "         0.66259315,  1.44802192]])"
      ]
     },
     "execution_count": 49,
     "metadata": {},
     "output_type": "execute_result"
    }
   ],
   "source": [
    "norm = rng.normal(size=10_000_000).reshape(1_000, -1)\n",
    "norm"
   ]
  },
  {
   "cell_type": "markdown",
   "id": "8faa33c3",
   "metadata": {},
   "source": [
    "## Oppgave\n",
    "Ta tiden det tar å multiplisere 1 million tilfeldig genererte tall med hverandre - kontra å gjøre det samme med iterasjon i python. Du kan bruke norm fra over som utgangspunkt. \n",
    " "
   ]
  },
  {
   "cell_type": "code",
   "execution_count": 50,
   "id": "a6a148f7",
   "metadata": {},
   "outputs": [
    {
     "name": "stdout",
     "output_type": "stream",
     "text": [
      "Took 0.0573368073 seconds\n",
      "Took 0.0486719608 seconds\n",
      "Took 0.0424165726 seconds\n",
      "Took 0.0422854424 seconds\n",
      "Took 0.0422379971 seconds\n",
      "Took 0.0450093746 seconds\n",
      "Took 0.0434207916 seconds\n",
      "Took 0.0428352356 seconds\n",
      "Took 0.0425248146 seconds\n",
      "Took 0.0421390533 seconds\n",
      "Took 0.0444293022 seconds\n",
      "Took 0.0444746017 seconds\n",
      "Took 0.0424449444 seconds\n",
      "Took 0.0424573421 seconds\n",
      "Took 0.0424306393 seconds\n",
      "Took 0.0446221828 seconds\n",
      "Took 0.0446681976 seconds\n",
      "Took 0.0433573723 seconds\n",
      "Took 0.0425183773 seconds\n",
      "Took 0.0424237251 seconds\n"
     ]
    }
   ],
   "source": [
    "for j in range(20):\n",
    "    #Python\n",
    "    start = time.time()\n",
    "    multiplisert = []\n",
    "    for i in norm:\n",
    "        multiplisert.append(i*i)\n",
    "    end = time.time()\n",
    "    print(f\"Took {str(round(end-start, 10))} seconds\")"
   ]
  },
  {
   "cell_type": "code",
   "execution_count": 51,
   "id": "49a61b71",
   "metadata": {},
   "outputs": [
    {
     "name": "stdout",
     "output_type": "stream",
     "text": [
      "Took 0.0657849312 seconds\n",
      "Took 0.039024353 seconds\n",
      "Took 0.0234231949 seconds\n",
      "Took 0.0173606873 seconds\n",
      "Took 0.0149943829 seconds\n",
      "Took 0.0147194862 seconds\n",
      "Took 0.0145366192 seconds\n",
      "Took 0.0145158768 seconds\n",
      "Took 0.0145173073 seconds\n",
      "Took 0.015547514 seconds\n",
      "Took 0.0162642002 seconds\n",
      "Took 0.0145525932 seconds\n",
      "Took 0.0161941051 seconds\n",
      "Took 0.0166568756 seconds\n",
      "Took 0.014737606 seconds\n",
      "Took 0.0146863461 seconds\n",
      "Took 0.0144712925 seconds\n",
      "Took 0.0144841671 seconds\n",
      "Took 0.0144946575 seconds\n",
      "Took 0.0146422386 seconds\n"
     ]
    }
   ],
   "source": [
    "for j in range(20):\n",
    "    #Numpy\n",
    "    start = time.time()\n",
    "    norm * norm\n",
    "    end = time.time()\n",
    "    print(f\"Took {str(round(end-start, 10))} seconds\")"
   ]
  },
  {
   "cell_type": "code",
   "execution_count": null,
   "id": "5275e0a5",
   "metadata": {},
   "outputs": [],
   "source": []
  }
 ],
 "metadata": {
  "kernelspec": {
   "display_name": "Python 3 (ipykernel)",
   "language": "python",
   "name": "python3"
  },
  "language_info": {
   "codemirror_mode": {
    "name": "ipython",
    "version": 3
   },
   "file_extension": ".py",
   "mimetype": "text/x-python",
   "name": "python",
   "nbconvert_exporter": "python",
   "pygments_lexer": "ipython3",
   "version": "3.10.12"
  }
 },
 "nbformat": 4,
 "nbformat_minor": 5
}
