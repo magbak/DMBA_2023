{
 "cells": [
  {
   "cell_type": "code",
   "execution_count": null,
   "id": "initial_id",
   "metadata": {
    "ExecuteTime": {
     "end_time": "2023-08-14T07:57:53.979481936Z",
     "start_time": "2023-08-14T07:57:53.871125289Z"
    }
   },
   "outputs": [],
   "source": [
    "import time\n",
    "import numpy as np\n",
    "import matplotlib.pyplot as plt"
   ]
  },
  {
   "cell_type": "code",
   "execution_count": null,
   "id": "81bc0e88547c1382",
   "metadata": {
    "ExecuteTime": {
     "end_time": "2023-08-14T07:58:10.152173551Z",
     "start_time": "2023-08-14T07:58:10.131681856Z"
    }
   },
   "outputs": [],
   "source": [
    "a = np.array([[1,2,3],[4,5,6],[7,8,9]])\n",
    "a"
   ]
  },
  {
   "cell_type": "markdown",
   "id": "d6b2003c",
   "metadata": {},
   "source": [
    "## Slicing and dicing"
   ]
  },
  {
   "cell_type": "code",
   "execution_count": null,
   "id": "d51724dcdccadc5e",
   "metadata": {
    "ExecuteTime": {
     "end_time": "2023-08-14T08:00:58.409011897Z",
     "start_time": "2023-08-14T08:00:58.352202677Z"
    }
   },
   "outputs": [],
   "source": [
    "a[0,0]"
   ]
  },
  {
   "cell_type": "code",
   "execution_count": null,
   "id": "f00ec9c2c0b3a013",
   "metadata": {
    "ExecuteTime": {
     "end_time": "2023-08-14T07:59:16.705193506Z",
     "start_time": "2023-08-14T07:59:16.663828138Z"
    }
   },
   "outputs": [],
   "source": [
    "a[:,2]"
   ]
  },
  {
   "cell_type": "code",
   "execution_count": null,
   "id": "20ebc214d9862e1",
   "metadata": {
    "ExecuteTime": {
     "end_time": "2023-08-14T07:59:25.675071794Z",
     "start_time": "2023-08-14T07:59:25.627340424Z"
    }
   },
   "outputs": [],
   "source": [
    "a[2,:]"
   ]
  },
  {
   "cell_type": "code",
   "execution_count": null,
   "id": "daed60ca44068ee9",
   "metadata": {
    "ExecuteTime": {
     "end_time": "2023-08-14T08:03:06.558370692Z",
     "start_time": "2023-08-14T08:03:06.536834530Z"
    }
   },
   "outputs": [],
   "source": [
    "a[1:,1:]"
   ]
  },
  {
   "cell_type": "markdown",
   "id": "dd0bbf2a",
   "metadata": {},
   "source": [
    "## Metadata"
   ]
  },
  {
   "cell_type": "code",
   "execution_count": null,
   "id": "bc921c2d",
   "metadata": {},
   "outputs": [],
   "source": [
    "a.shape #Rows, cols"
   ]
  },
  {
   "cell_type": "code",
   "execution_count": null,
   "id": "d97e6545",
   "metadata": {},
   "outputs": [],
   "source": [
    "a.dtype"
   ]
  },
  {
   "cell_type": "markdown",
   "id": "3d3f2321fcc73935",
   "metadata": {},
   "source": [
    "## Assignment"
   ]
  },
  {
   "cell_type": "code",
   "execution_count": null,
   "id": "adddb2b4fe0e7997",
   "metadata": {
    "ExecuteTime": {
     "end_time": "2023-08-14T08:04:53.622297608Z",
     "start_time": "2023-08-14T08:04:53.497879100Z"
    }
   },
   "outputs": [],
   "source": [
    "a[1,1] = 99\n",
    "a"
   ]
  },
  {
   "cell_type": "markdown",
   "id": "72171268",
   "metadata": {},
   "source": [
    "## Broadcasting"
   ]
  },
  {
   "cell_type": "code",
   "execution_count": null,
   "id": "f5dcb76b188685e6",
   "metadata": {
    "ExecuteTime": {
     "end_time": "2023-08-14T08:05:35.971082275Z",
     "start_time": "2023-08-14T08:05:35.913282334Z"
    }
   },
   "outputs": [],
   "source": [
    "a[0,:] = 42\n",
    "a"
   ]
  },
  {
   "cell_type": "code",
   "execution_count": null,
   "id": "c7ae13d95b7a263c",
   "metadata": {
    "ExecuteTime": {
     "end_time": "2023-08-14T08:09:38.605219400Z",
     "start_time": "2023-08-14T08:09:38.559814026Z"
    }
   },
   "outputs": [],
   "source": [
    "a[:,0] * a[:,1]"
   ]
  },
  {
   "cell_type": "code",
   "execution_count": null,
   "id": "fac0333b9cbd0a03",
   "metadata": {
    "ExecuteTime": {
     "end_time": "2023-08-14T08:10:12.627656862Z",
     "start_time": "2023-08-14T08:10:12.592013596Z"
    }
   },
   "outputs": [],
   "source": [
    "a[:,0] + a[:,1]"
   ]
  },
  {
   "cell_type": "markdown",
   "id": "9565c6b4",
   "metadata": {},
   "source": [
    "## Transposing"
   ]
  },
  {
   "cell_type": "code",
   "execution_count": null,
   "id": "f72e58ed6d9bca32",
   "metadata": {
    "ExecuteTime": {
     "end_time": "2023-08-14T08:06:55.294270719Z",
     "start_time": "2023-08-14T08:06:55.232475981Z"
    }
   },
   "outputs": [],
   "source": [
    "a.T"
   ]
  },
  {
   "cell_type": "code",
   "execution_count": null,
   "id": "d17b8059fe8bd299",
   "metadata": {
    "ExecuteTime": {
     "end_time": "2023-08-14T08:11:14.155039802Z",
     "start_time": "2023-08-14T08:11:14.134585856Z"
    }
   },
   "outputs": [],
   "source": [
    "b = np.array([100,1000,10000])\n",
    "b"
   ]
  },
  {
   "cell_type": "code",
   "execution_count": null,
   "id": "288138c6e7c0ccd0",
   "metadata": {
    "ExecuteTime": {
     "end_time": "2023-08-14T08:11:29.046489373Z",
     "start_time": "2023-08-14T08:11:29.004816713Z"
    }
   },
   "outputs": [],
   "source": [
    "b.T"
   ]
  },
  {
   "cell_type": "code",
   "execution_count": null,
   "id": "f4ac752b127e8bd4",
   "metadata": {
    "ExecuteTime": {
     "start_time": "2023-08-14T08:11:38.663808962Z"
    }
   },
   "outputs": [],
   "source": [
    "a * b.T"
   ]
  },
  {
   "cell_type": "code",
   "execution_count": null,
   "id": "aec3781b",
   "metadata": {},
   "outputs": [],
   "source": [
    "## Missing values"
   ]
  },
  {
   "cell_type": "code",
   "execution_count": null,
   "id": "ccb027a4",
   "metadata": {},
   "outputs": [],
   "source": [
    "a = np.array([[1,2,3],[4,5,6],[7,8,9]]).astype(np.single)\n",
    "a"
   ]
  },
  {
   "cell_type": "code",
   "execution_count": null,
   "id": "096ce914",
   "metadata": {},
   "outputs": [],
   "source": [
    "a[0,0] = None\n",
    "a"
   ]
  },
  {
   "cell_type": "code",
   "execution_count": null,
   "id": "1f92e0e9",
   "metadata": {},
   "outputs": [],
   "source": [
    "mask1 = np.isnan(a)\n",
    "mask1"
   ]
  },
  {
   "cell_type": "markdown",
   "id": "1b5e9fbc",
   "metadata": {},
   "source": [
    "## Boolean masks"
   ]
  },
  {
   "cell_type": "code",
   "execution_count": null,
   "id": "43a62adf",
   "metadata": {},
   "outputs": [],
   "source": [
    "a[mask1]"
   ]
  },
  {
   "cell_type": "code",
   "execution_count": null,
   "id": "bb9c0b18",
   "metadata": {},
   "outputs": [],
   "source": [
    "~mask1"
   ]
  },
  {
   "cell_type": "code",
   "execution_count": null,
   "id": "f69569aa",
   "metadata": {},
   "outputs": [],
   "source": [
    "a[~mask1]"
   ]
  },
  {
   "cell_type": "code",
   "execution_count": null,
   "id": "44618895",
   "metadata": {},
   "outputs": [],
   "source": [
    "mask2 = a%2 == 0\n",
    "mask2"
   ]
  },
  {
   "cell_type": "code",
   "execution_count": null,
   "id": "dc489bd5",
   "metadata": {},
   "outputs": [],
   "source": [
    "mask3 = mask1 | mask2\n",
    "mask3"
   ]
  },
  {
   "cell_type": "markdown",
   "id": "99437a67",
   "metadata": {},
   "source": [
    "## Scaling up"
   ]
  },
  {
   "cell_type": "code",
   "execution_count": null,
   "id": "68ad38e7",
   "metadata": {},
   "outputs": [],
   "source": [
    "c = np.linspace(start=0, stop=1_000, num=10_000_000)\n",
    "c"
   ]
  },
  {
   "cell_type": "code",
   "execution_count": null,
   "id": "23c24d0e",
   "metadata": {},
   "outputs": [],
   "source": [
    "c = c.reshape((-1, 10))\n",
    "c"
   ]
  },
  {
   "cell_type": "code",
   "execution_count": null,
   "id": "1806182b",
   "metadata": {},
   "outputs": [],
   "source": [
    "c.shape"
   ]
  },
  {
   "cell_type": "markdown",
   "id": "57a5db4c",
   "metadata": {},
   "source": [
    "## Aggregation functions"
   ]
  },
  {
   "cell_type": "code",
   "execution_count": null,
   "id": "6019ff9f",
   "metadata": {},
   "outputs": [],
   "source": [
    "c.mean(axis=0)"
   ]
  },
  {
   "cell_type": "code",
   "execution_count": null,
   "id": "5d190e76",
   "metadata": {},
   "outputs": [],
   "source": [
    "c.mean(axis=1)"
   ]
  },
  {
   "cell_type": "code",
   "execution_count": null,
   "id": "850272c6",
   "metadata": {},
   "outputs": [],
   "source": [
    "c.mean(axis=None)"
   ]
  },
  {
   "cell_type": "code",
   "execution_count": null,
   "id": "6b8eefa8",
   "metadata": {},
   "outputs": [],
   "source": [
    "c.std(axis=0)"
   ]
  },
  {
   "cell_type": "code",
   "execution_count": null,
   "id": "5f5a360e",
   "metadata": {},
   "outputs": [],
   "source": [
    "c.max(axis=0)"
   ]
  },
  {
   "cell_type": "markdown",
   "id": "8c5eebae",
   "metadata": {},
   "source": [
    "## Sampling \"randomly\" generated data"
   ]
  },
  {
   "cell_type": "code",
   "execution_count": null,
   "id": "af56caf1",
   "metadata": {},
   "outputs": [],
   "source": [
    "rng = np.random.default_rng(seed=1337)"
   ]
  },
  {
   "cell_type": "code",
   "execution_count": null,
   "id": "eb7ea9ab",
   "metadata": {},
   "outputs": [],
   "source": [
    "unif = rng.uniform(size=1_000_000).reshape((1_000,-1))\n",
    "unif"
   ]
  },
  {
   "cell_type": "code",
   "execution_count": null,
   "id": "65c7b398",
   "metadata": {},
   "outputs": [],
   "source": [
    "norm = rng.normal(size=1_000_000).reshape(1_000, -1)\n",
    "norm"
   ]
  },
  {
   "cell_type": "markdown",
   "id": "8faa33c3",
   "metadata": {},
   "source": [
    "## Oppgave\n",
    "Ta tiden det tar å multiplisere 1 million tilfeldig genererte tall med hverandre - kontra å gjøre det samme med iterasjon i python. Du kan bruke norm fra over som utgangspunkt. \n",
    " "
   ]
  },
  {
   "cell_type": "code",
   "execution_count": null,
   "id": "a6a148f7",
   "metadata": {},
   "outputs": [],
   "source": [
    "start = time.time()\n",
    "1+1\n",
    "end = time.time()\n",
    "print(f\"Took {str(round(end-start, 10))} seconds\")"
   ]
  },
  {
   "cell_type": "code",
   "execution_count": null,
   "id": "49a61b71",
   "metadata": {},
   "outputs": [],
   "source": []
  }
 ],
 "metadata": {
  "kernelspec": {
   "display_name": "Python 3 (ipykernel)",
   "language": "python",
   "name": "python3"
  },
  "language_info": {
   "codemirror_mode": {
    "name": "ipython",
    "version": 3
   },
   "file_extension": ".py",
   "mimetype": "text/x-python",
   "name": "python",
   "nbconvert_exporter": "python",
   "pygments_lexer": "ipython3",
   "version": "3.10.12"
  }
 },
 "nbformat": 4,
 "nbformat_minor": 5
}
