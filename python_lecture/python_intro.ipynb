{
 "cells": [
  {
   "cell_type": "markdown",
   "id": "4502db6b",
   "metadata": {
    "collapsed": true
   },
   "source": [
    "## Noen datastrukturer i Python"
   ]
  },
  {
   "cell_type": "markdown",
   "id": "8461b3dd",
   "metadata": {},
   "source": [
    "### Lister"
   ]
  },
  {
   "cell_type": "code",
   "execution_count": null,
   "id": "de24966c",
   "metadata": {},
   "outputs": [],
   "source": [
    "import os\n",
    "\n",
    "l1 = [1,2,3]\n",
    "l1"
   ]
  },
  {
   "cell_type": "markdown",
   "id": "f1d0970a",
   "metadata": {},
   "source": [
    "#### Dynamisk typing"
   ]
  },
  {
   "cell_type": "code",
   "execution_count": null,
   "id": "b39c43cf",
   "metadata": {},
   "outputs": [],
   "source": [
    "l2 = [\"a\", 32, [], [1,3,None], False, True]"
   ]
  },
  {
   "cell_type": "markdown",
   "id": "536250dd",
   "metadata": {},
   "source": [
    "#### List comprehension"
   ]
  },
  {
   "cell_type": "code",
   "execution_count": null,
   "id": "804da4de",
   "metadata": {},
   "outputs": [],
   "source": [
    "l3 = [f\"Hallo{i}\" for i in range(9000)]"
   ]
  },
  {
   "cell_type": "code",
   "execution_count": null,
   "id": "1abab26a",
   "metadata": {},
   "outputs": [],
   "source": [
    "l3"
   ]
  },
  {
   "cell_type": "markdown",
   "id": "be7fe74c",
   "metadata": {},
   "source": [
    "#### Samme som "
   ]
  },
  {
   "cell_type": "code",
   "execution_count": null,
   "id": "5a045307",
   "metadata": {},
   "outputs": [],
   "source": [
    "l4 = []\n",
    "for i in range(9000):\n",
    "    l4.append(f\"Hallo{i}\")\n",
    "l4"
   ]
  },
  {
   "cell_type": "markdown",
   "id": "ed20e304",
   "metadata": {},
   "source": [
    "#### Verdi på indeks"
   ]
  },
  {
   "cell_type": "code",
   "execution_count": null,
   "id": "295119ef",
   "metadata": {},
   "outputs": [],
   "source": [
    "l4[8999]"
   ]
  },
  {
   "cell_type": "code",
   "execution_count": null,
   "id": "362c4f4c",
   "metadata": {},
   "outputs": [],
   "source": [
    "l4[9000]"
   ]
  },
  {
   "cell_type": "markdown",
   "id": "09ac1e60",
   "metadata": {},
   "source": [
    "#### Indeks til verdi"
   ]
  },
  {
   "cell_type": "code",
   "execution_count": null,
   "id": "a1a4c5f5",
   "metadata": {},
   "outputs": [],
   "source": [
    "l4.index(\"Hallo999\")"
   ]
  },
  {
   "cell_type": "markdown",
   "id": "d4426db9",
   "metadata": {},
   "source": [
    "#### Lengde"
   ]
  },
  {
   "cell_type": "code",
   "execution_count": null,
   "id": "e2ad72d4",
   "metadata": {},
   "outputs": [],
   "source": [
    "# Listelengden\n",
    "len(l4)"
   ]
  },
  {
   "cell_type": "markdown",
   "id": "4caf3901",
   "metadata": {},
   "source": [
    "#### Slice av liste"
   ]
  },
  {
   "cell_type": "code",
   "execution_count": null,
   "id": "87fee07e",
   "metadata": {},
   "outputs": [],
   "source": [
    "l4[0:33]"
   ]
  },
  {
   "cell_type": "code",
   "execution_count": null,
   "id": "4f62af9f",
   "metadata": {},
   "outputs": [],
   "source": [
    "l4[8992:]"
   ]
  },
  {
   "cell_type": "code",
   "execution_count": null,
   "id": "f3ca745f",
   "metadata": {},
   "outputs": [],
   "source": [
    "l4[-8:]"
   ]
  },
  {
   "cell_type": "markdown",
   "id": "2ff1b86e",
   "metadata": {},
   "source": [
    "#### Enumerering"
   ]
  },
  {
   "cell_type": "code",
   "execution_count": null,
   "id": "0680a027",
   "metadata": {},
   "outputs": [],
   "source": [
    "for (i, e) in enumerate(l4):\n",
    "    print(i)\n",
    "    print(e)"
   ]
  },
  {
   "cell_type": "markdown",
   "id": "20536f35",
   "metadata": {},
   "source": [
    "### Dict "
   ]
  },
  {
   "cell_type": "code",
   "execution_count": null,
   "id": "49cbef01",
   "metadata": {},
   "outputs": [],
   "source": [
    "d = {\"A\":1, \n",
    "     \"B\":2,\n",
    "     \"C\":3}\n",
    "d"
   ]
  },
  {
   "cell_type": "code",
   "execution_count": null,
   "id": "5dc07248",
   "metadata": {},
   "outputs": [],
   "source": [
    "d[\"A\"]"
   ]
  },
  {
   "cell_type": "code",
   "execution_count": null,
   "id": "6d642100",
   "metadata": {},
   "outputs": [],
   "source": [
    "d[\"D\"]"
   ]
  },
  {
   "cell_type": "code",
   "execution_count": null,
   "id": "08c59cce",
   "metadata": {},
   "outputs": [],
   "source": [
    "if \"D\" in d:\n",
    "    print(\"D finnes!\")\n",
    "else:\n",
    "    print(\"D finnes ikke!\")"
   ]
  },
  {
   "cell_type": "code",
   "execution_count": null,
   "id": "529026c2",
   "metadata": {},
   "outputs": [],
   "source": [
    "d[\"F\"] = 32\n",
    "d[\"F\"]"
   ]
  },
  {
   "cell_type": "markdown",
   "id": "fed0ad29",
   "metadata": {},
   "source": [
    "#### Dict comprehension"
   ]
  },
  {
   "cell_type": "code",
   "execution_count": null,
   "id": "0b7cfe98",
   "metadata": {},
   "outputs": [],
   "source": [
    "d2 = {i:e for (i,e) in enumerate(\"ABCDEFGHIJKLMNOP\")}\n",
    "d2"
   ]
  },
  {
   "cell_type": "code",
   "execution_count": null,
   "id": "3707a5cd",
   "metadata": {},
   "outputs": [],
   "source": [
    "d3 = {v:k for (k,v) in d2.items()}\n",
    "d3"
   ]
  },
  {
   "cell_type": "code",
   "execution_count": null,
   "id": "c41cf179",
   "metadata": {},
   "outputs": [],
   "source": [
    "s = {\"A\", \"B\", \"C\", \"D\"}\n",
    "t = {\"D\", \"E\", \"F\", \"G\"}\n",
    "print(\"s:\", s)\n",
    "print(\"t:\", t)"
   ]
  },
  {
   "cell_type": "code",
   "execution_count": null,
   "id": "1fec86e9",
   "metadata": {},
   "outputs": [],
   "source": [
    "s.intersection(t)"
   ]
  },
  {
   "cell_type": "code",
   "execution_count": null,
   "id": "2de0cdb4",
   "metadata": {},
   "outputs": [],
   "source": [
    "s.union(t)"
   ]
  },
  {
   "cell_type": "code",
   "execution_count": null,
   "id": "90445449",
   "metadata": {},
   "outputs": [],
   "source": [
    "s.difference(t)"
   ]
  },
  {
   "cell_type": "code",
   "execution_count": null,
   "id": "5b9e8753",
   "metadata": {},
   "outputs": [],
   "source": [
    "s - t"
   ]
  },
  {
   "cell_type": "code",
   "execution_count": null,
   "id": "c4115f1e",
   "metadata": {},
   "outputs": [],
   "source": [
    "t - s"
   ]
  },
  {
   "cell_type": "markdown",
   "id": "bb387473",
   "metadata": {},
   "source": [
    "#### Liste til sett"
   ]
  },
  {
   "cell_type": "code",
   "execution_count": null,
   "id": "7f361e16",
   "metadata": {},
   "outputs": [],
   "source": [
    "sl1 = set(l1)\n",
    "sl1"
   ]
  },
  {
   "cell_type": "code",
   "execution_count": null,
   "id": "9774c65e",
   "metadata": {},
   "outputs": [],
   "source": [
    "1 in sl1"
   ]
  },
  {
   "cell_type": "markdown",
   "id": "e221be3c",
   "metadata": {},
   "source": [
    "### Tupler"
   ]
  },
  {
   "cell_type": "code",
   "execution_count": null,
   "id": "8e3f8743",
   "metadata": {},
   "outputs": [],
   "source": [
    "tup1 = (True, )"
   ]
  },
  {
   "cell_type": "code",
   "execution_count": null,
   "id": "7ea860ad",
   "metadata": {},
   "outputs": [],
   "source": [
    "tup2 = (1,2,3)"
   ]
  },
  {
   "cell_type": "markdown",
   "id": "0ebbe811",
   "metadata": {},
   "source": [
    "#### Tupler kan aksesseres litt som lister"
   ]
  },
  {
   "cell_type": "code",
   "execution_count": null,
   "id": "8e8fcf2c",
   "metadata": {},
   "outputs": [],
   "source": [
    "print(len(tup1))\n",
    "print(len(tup2))\n",
    "print(tup1[0])"
   ]
  },
  {
   "cell_type": "code",
   "execution_count": null,
   "id": "b13a18ce",
   "metadata": {},
   "outputs": [],
   "source": [
    "print(tup2[1:])"
   ]
  },
  {
   "cell_type": "markdown",
   "id": "9ddba573",
   "metadata": {},
   "source": [
    "#### Tupler kan være dict-nøkler, men lister kan ikke"
   ]
  },
  {
   "cell_type": "code",
   "execution_count": null,
   "id": "0f40d438",
   "metadata": {},
   "outputs": [],
   "source": [
    "d5 = {[\"A\", \"B\"]:37}\n",
    "d5"
   ]
  },
  {
   "cell_type": "code",
   "execution_count": null,
   "id": "019d4bf6",
   "metadata": {},
   "outputs": [],
   "source": [
    "d6 = {(\"A\", \"B\"):37}\n",
    "d6"
   ]
  },
  {
   "cell_type": "markdown",
   "source": [
    "## Input"
   ],
   "metadata": {
    "collapsed": false
   },
   "id": "194a9403934635b"
  },
  {
   "cell_type": "code",
   "execution_count": null,
   "outputs": [],
   "source": [
    "with open(\"requirements.txt\", \"r\") as f:\n",
    "    print(f.readlines())"
   ],
   "metadata": {
    "collapsed": false
   },
   "id": "d4c9fb6d4b91de98"
  },
  {
   "cell_type": "code",
   "execution_count": null,
   "outputs": [],
   "source": [
    "import os\n",
    "os.listdir(\".\")"
   ],
   "metadata": {
    "collapsed": false
   },
   "id": "46e258121ef0177e"
  },
  {
   "cell_type": "code",
   "execution_count": null,
   "outputs": [],
   "source": [],
   "metadata": {
    "collapsed": false
   },
   "id": "4831f62358afe8ec"
  }
 ],
 "metadata": {
  "kernelspec": {
   "display_name": "Python 3 (ipykernel)",
   "language": "python",
   "name": "python3"
  },
  "language_info": {
   "codemirror_mode": {
    "name": "ipython",
    "version": 3
   },
   "file_extension": ".py",
   "mimetype": "text/x-python",
   "name": "python",
   "nbconvert_exporter": "python",
   "pygments_lexer": "ipython3",
   "version": "3.10.12"
  }
 },
 "nbformat": 4,
 "nbformat_minor": 5
}
