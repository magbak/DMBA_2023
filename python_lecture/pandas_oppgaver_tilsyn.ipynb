{
 "cells": [
  {
   "cell_type": "code",
   "execution_count": null,
   "id": "b8b9c50b",
   "metadata": {},
   "outputs": [],
   "source": [
    "import numpy as np\n",
    "import pandas as pd"
   ]
  },
  {
   "cell_type": "code",
   "execution_count": null,
   "id": "dcdac883",
   "metadata": {},
   "outputs": [],
   "source": [
    "df = pd.read_csv(\"tilsyn.csv\", sep=\";\", dtype={\"dato\":str})"
   ]
  },
  {
   "cell_type": "code",
   "execution_count": null,
   "id": "f8187552",
   "metadata": {},
   "outputs": [],
   "source": [
    "df"
   ]
  },
  {
   "cell_type": "code",
   "execution_count": null,
   "id": "c564145e",
   "metadata": {},
   "outputs": [],
   "source": [
    "df[\"dato\"] = pd.to_datetime(df[\"dato\"], format=\"%d%m%Y\") "
   ]
  },
  {
   "cell_type": "markdown",
   "id": "873f1080",
   "metadata": {},
   "source": [
    "## Oppgaver:\n",
    "1. Finn gjennomsnittlig antall kontroller pr år\n",
    "2. Finn spisestedet som har blitt kontrollert flest ganger pr. år - hvilket år var dette i? \n",
    "3. Hvilke av de store kjedene (maccern, kurger bing, peppes, pizzabakeren) gjør det best (på tvers av lokasjoner)?\n",
    "4. Bruk data om kravpunkter til å finne ut hvilke restauranter som har slitt mest med håndvask: https://hotell.difi.no/?dataset=mattilsynet/smilefjes/kravpunkter"
   ]
  },
  {
   "cell_type": "markdown",
   "id": "b3500dca",
   "metadata": {},
   "source": [
    "#### Oppgave 1"
   ]
  },
  {
   "cell_type": "code",
   "execution_count": null,
   "id": "eb08f6ad",
   "metadata": {},
   "outputs": [],
   "source": [
    "# https://pandas.pydata.org/pandas-docs/stable/reference/api/pandas.Series.dt.year.html\n",
    "df[\"year\"] = df[\"dato\"].dt.year\n",
    "df[\"year\"]"
   ]
  },
  {
   "cell_type": "code",
   "execution_count": null,
   "id": "bb7db7cd",
   "metadata": {},
   "outputs": [],
   "source": [
    "# https://pandas.pydata.org/pandas-docs/stable/reference/api/pandas.DataFrame.groupby.html\n",
    "# \n",
    "# Vi har med \"navn\"-kolonna her også sånn at vi har noe å telle med .count()\n",
    "df1gr = df[[\"year\", \"navn\"]].groupby(by=[\"year\"]).count()\n",
    "df1gr"
   ]
  },
  {
   "cell_type": "code",
   "execution_count": null,
   "id": "fef10ed6",
   "metadata": {},
   "outputs": [],
   "source": [
    "# Kanskje greit å droppe 2015.. ser ut til å ikke ha komplette data\n",
    "df1gr = df1gr.drop(2015)\n",
    "df1gr"
   ]
  },
  {
   "cell_type": "code",
   "execution_count": null,
   "id": "88caa3bf",
   "metadata": {},
   "outputs": [],
   "source": [
    "df1gr.mean()"
   ]
  },
  {
   "cell_type": "markdown",
   "id": "3729e495",
   "metadata": {},
   "source": [
    "#### Oppgave 2"
   ]
  },
  {
   "cell_type": "code",
   "execution_count": null,
   "id": "487b1877",
   "metadata": {},
   "outputs": [],
   "source": [
    "# Igjen så har vi med tilsynsobjektid sånn at vi har noe å telle (som vi ikke grupperer etter)\n",
    "dfo2gr = df[[\"navn\", \"orgnummer\", \"year\", \"tilsynsobjektid\"]].groupby(by=[\"navn\", \"orgnummer\", \"year\"]).count()\n",
    "dfo2gr"
   ]
  },
  {
   "cell_type": "code",
   "execution_count": null,
   "id": "f6171028",
   "metadata": {},
   "outputs": [],
   "source": [
    "dfo2gr = dfo2gr.rename(columns={\"tilsynsobjektid\":\"antall_tilsyn\"}).sort_values(\"antall_tilsyn\", ascending=False)\n",
    "dfo2gr"
   ]
  },
  {
   "cell_type": "markdown",
   "id": "9533d704",
   "metadata": {},
   "source": [
    "#### Oppgave 3"
   ]
  },
  {
   "cell_type": "code",
   "execution_count": null,
   "id": "fdec3e66",
   "metadata": {},
   "outputs": [],
   "source": [
    "# Litt koderepetisjon her.. men la gå.. "
   ]
  },
  {
   "cell_type": "code",
   "execution_count": null,
   "id": "824cf744",
   "metadata": {},
   "outputs": [],
   "source": [
    "# Vi kan se av de unike verdiene at 4 og 5 ikke er i bruk for totalkarakter.\n",
    "# Disse brukes til å representere at en kontroll ikke er gjennomført \n",
    "# 0: smilemunn\n",
    "# 1: smilemunn, småtterier\n",
    "# 2: strekmunn\n",
    "# 3: surmunn\n",
    "df[\"total_karakter\"].unique()"
   ]
  },
  {
   "cell_type": "code",
   "execution_count": null,
   "id": "dbd41797",
   "metadata": {},
   "outputs": [],
   "source": [
    "maccern = df[\"navn\"].str.lower().str.contains(\"mcdonald\")"
   ]
  },
  {
   "cell_type": "code",
   "execution_count": null,
   "id": "ca0d1a29",
   "metadata": {},
   "outputs": [],
   "source": [
    "maccern"
   ]
  },
  {
   "cell_type": "code",
   "execution_count": null,
   "id": "a4bd52af",
   "metadata": {},
   "outputs": [],
   "source": [
    "maccern.sum()"
   ]
  },
  {
   "cell_type": "code",
   "execution_count": null,
   "id": "d71564dd",
   "metadata": {},
   "outputs": [],
   "source": [
    "burgerking = df[\"navn\"].str.lower().str.contains(\"burger king\")"
   ]
  },
  {
   "cell_type": "code",
   "execution_count": null,
   "id": "4695444f",
   "metadata": {},
   "outputs": [],
   "source": [
    "burgerking.sum()"
   ]
  },
  {
   "cell_type": "code",
   "execution_count": null,
   "id": "08eee006",
   "metadata": {},
   "outputs": [],
   "source": [
    "peppes = df[\"navn\"].str.lower().str.contains(\"peppes pizza\")"
   ]
  },
  {
   "cell_type": "code",
   "execution_count": null,
   "id": "46f177af",
   "metadata": {},
   "outputs": [],
   "source": [
    "peppes.sum()"
   ]
  },
  {
   "cell_type": "code",
   "execution_count": null,
   "id": "5bb2aa38",
   "metadata": {},
   "outputs": [],
   "source": [
    "pizzabakeren = df[\"navn\"].str.lower().str.contains(\"pizzabakeren\")\n",
    "pizzabakeren.sum()"
   ]
  },
  {
   "cell_type": "code",
   "execution_count": null,
   "id": "bac83a2d",
   "metadata": {},
   "outputs": [],
   "source": [
    "dfo3[\"kjede\"] = None"
   ]
  },
  {
   "cell_type": "code",
   "execution_count": null,
   "id": "1a3c8c9a",
   "metadata": {},
   "outputs": [],
   "source": [
    "dfo3.loc[maccern, \"kjede\"] = \"maccern\"\n",
    "dfo3.loc[burgerking, \"kjede\"] = \"burgerking\"\n",
    "dfo3.loc[peppes, \"kjede\"] = \"peppes\"\n",
    "dfo3.loc[pizzabakeren, \"kjede\"] = \"pizzabakeren\""
   ]
  },
  {
   "cell_type": "code",
   "execution_count": null,
   "id": "1e78b6af",
   "metadata": {},
   "outputs": [],
   "source": [
    "dfo3 = dfo3[~dfo3[\"kjede\"].isna()]\n",
    "dfo3"
   ]
  },
  {
   "cell_type": "code",
   "execution_count": null,
   "id": "5f955389",
   "metadata": {},
   "outputs": [],
   "source": [
    "# Liten sanity check her\n",
    "assert dfo3.shape[0] == maccern.sum() + burgerking.sum() + peppes.sum() + pizzabakeren.sum()"
   ]
  },
  {
   "cell_type": "code",
   "execution_count": null,
   "id": "b08cb262",
   "metadata": {},
   "outputs": [],
   "source": [
    "dfo3[[\"kjede\", \"total_karakter\"]].groupby(by=[\"kjede\"]).mean()"
   ]
  },
  {
   "cell_type": "markdown",
   "id": "bf567e45",
   "metadata": {},
   "source": [
    "#### Oppgave 4"
   ]
  },
  {
   "cell_type": "code",
   "execution_count": null,
   "id": "32e7e264",
   "metadata": {},
   "outputs": [],
   "source": [
    "df_kp = pd.read_csv(\"kravpunkter.csv\", sep=\";\", dtype={\"dato\":str})"
   ]
  },
  {
   "cell_type": "code",
   "execution_count": null,
   "id": "cf23e960",
   "metadata": {},
   "outputs": [],
   "source": [
    "df_kp"
   ]
  },
  {
   "cell_type": "code",
   "execution_count": null,
   "id": "50509f25",
   "metadata": {},
   "outputs": [],
   "source": [
    "df_kp[\"kravpunktnavn_no\"].unique()"
   ]
  },
  {
   "cell_type": "code",
   "execution_count": null,
   "id": "5ea68c0c",
   "metadata": {},
   "outputs": [],
   "source": [
    "df_handvask = df_kp[(df_kp[\"kravpunktnavn_no\"] == \"Håndvask\") & (df_kp[\"karakter\"] == 3)]\n",
    "df_handvask"
   ]
  },
  {
   "cell_type": "code",
   "execution_count": null,
   "id": "a695c506",
   "metadata": {},
   "outputs": [],
   "source": [
    "handvask_3 = df[[\"orgnummer\", \"navn\", \"dato\", \"poststed\", \"tilsynid\"]].set_index(\"tilsynid\").join(\n",
    "    df_handvask[[\"tilsynid\", \"karakter\", \"tekst_no\"]].set_index(\"tilsynid\"), how=\"inner\")\n",
    "handvask_3"
   ]
  },
  {
   "cell_type": "code",
   "execution_count": null,
   "id": "8bb76b24",
   "metadata": {},
   "outputs": [],
   "source": [
    "handvask_3.reset_index(drop=True).sort_values(\"dato\", ascending=False)"
   ]
  }
 ],
 "metadata": {
  "kernelspec": {
   "display_name": "Python 3 (ipykernel)",
   "language": "python",
   "name": "python3"
  },
  "language_info": {
   "codemirror_mode": {
    "name": "ipython",
    "version": 3
   },
   "file_extension": ".py",
   "mimetype": "text/x-python",
   "name": "python",
   "nbconvert_exporter": "python",
   "pygments_lexer": "ipython3",
   "version": "3.10.12"
  }
 },
 "nbformat": 4,
 "nbformat_minor": 5
}
