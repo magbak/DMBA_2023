{
 "cells": [
  {
   "cell_type": "code",
   "execution_count": null,
   "id": "c30530fa",
   "metadata": {
    "ExecuteTime": {
     "end_time": "2023-08-21T06:00:44.159765223Z",
     "start_time": "2023-08-21T06:00:43.661516550Z"
    }
   },
   "outputs": [],
   "source": [
    "import numpy as np\n",
    "import pandas as pd\n",
    "import time"
   ]
  },
  {
   "cell_type": "code",
   "execution_count": null,
   "id": "b7a9a244",
   "metadata": {},
   "outputs": [],
   "source": [
    "import os"
   ]
  },
  {
   "cell_type": "markdown",
   "id": "1c0ccba9b8d4309d",
   "metadata": {},
   "source": [
    "Vi bruker Mattilsynets datasett \"Smilefjestilsyn på serveringssteder\"\n",
    "\n",
    "Datasettet er tilgjengelig her (velg komplett datasett i CSV):\n",
    "https://hotell.difi.no/?dataset=mattilsynet/smilefjes/tilsyn \n",
    "\n",
    "Datasettet er nærmere beskrevet her:\n",
    "https://data.norge.no/datasets/288aa74c-e3d3-492e-9ede-e71503b3bfd9\n",
    "\n"
   ]
  },
  {
   "cell_type": "code",
   "execution_count": null,
   "id": "df382289",
   "metadata": {},
   "outputs": [],
   "source": [
    "os.listdir(\".\")"
   ]
  },
  {
   "cell_type": "code",
   "execution_count": null,
   "id": "98873d3acb9049f1",
   "metadata": {
    "ExecuteTime": {
     "end_time": "2023-08-21T06:00:44.339315324Z",
     "start_time": "2023-08-21T06:00:43.692731232Z"
    }
   },
   "outputs": [],
   "source": [
    "df = pd.read_csv(\"tilsyn.csv\", sep=\";\", dtype={\"dato\":str})"
   ]
  },
  {
   "cell_type": "markdown",
   "id": "d8e961d2",
   "metadata": {},
   "source": [
    "## Selecting a series"
   ]
  },
  {
   "cell_type": "code",
   "execution_count": null,
   "id": "2ef58a5a6f162e64",
   "metadata": {
    "ExecuteTime": {
     "end_time": "2023-08-21T06:00:44.340216206Z",
     "start_time": "2023-08-21T06:00:44.121515601Z"
    }
   },
   "outputs": [],
   "source": [
    "df"
   ]
  },
  {
   "cell_type": "code",
   "execution_count": null,
   "id": "c05e687f",
   "metadata": {},
   "outputs": [],
   "source": [
    "df[\"navn\"].head(20)"
   ]
  },
  {
   "cell_type": "code",
   "execution_count": null,
   "id": "2e4bc8b2",
   "metadata": {},
   "outputs": [],
   "source": [
    "df.dtypes"
   ]
  },
  {
   "cell_type": "code",
   "execution_count": null,
   "id": "bf44ad55",
   "metadata": {},
   "outputs": [],
   "source": [
    "df[[\"navn\", \"total_karakter\"]].sort_values(\"total_karakter\", ascending=False)"
   ]
  },
  {
   "cell_type": "code",
   "execution_count": null,
   "id": "21b24dcf210d2237",
   "metadata": {
    "ExecuteTime": {
     "end_time": "2023-08-21T06:00:44.377053803Z",
     "start_time": "2023-08-21T06:00:44.140273535Z"
    }
   },
   "outputs": [],
   "source": [
    "df.sort_values(by=[\"total_karakter\"], ascending=False)"
   ]
  },
  {
   "cell_type": "code",
   "execution_count": null,
   "id": "bf5391cff2bf5ebc",
   "metadata": {
    "ExecuteTime": {
     "end_time": "2023-08-21T06:00:44.377891025Z",
     "start_time": "2023-08-21T06:00:44.225593469Z"
    }
   },
   "outputs": [],
   "source": [
    "df.dtypes"
   ]
  },
  {
   "cell_type": "code",
   "execution_count": null,
   "id": "a81db0c9bc7517fb",
   "metadata": {
    "ExecuteTime": {
     "end_time": "2023-08-21T06:00:44.378155923Z",
     "start_time": "2023-08-21T06:00:44.225846313Z"
    }
   },
   "outputs": [],
   "source": [
    "df[\"orgnummer\"] = df[\"orgnummer\"].astype(pd.Int32Dtype())"
   ]
  },
  {
   "cell_type": "code",
   "execution_count": null,
   "id": "da4f7acfbac96494",
   "metadata": {
    "ExecuteTime": {
     "end_time": "2023-08-21T06:00:44.378518360Z",
     "start_time": "2023-08-21T06:00:44.273400966Z"
    }
   },
   "outputs": [],
   "source": [
    "df[\"orgnummer\"].duplicated(keep=False).sum()"
   ]
  },
  {
   "cell_type": "code",
   "execution_count": null,
   "id": "803ddb6876fdb90c",
   "metadata": {
    "ExecuteTime": {
     "end_time": "2023-08-21T06:00:44.378841273Z",
     "start_time": "2023-08-21T06:00:44.273654695Z"
    }
   },
   "outputs": [],
   "source": [
    "(~df[\"orgnummer\"].duplicated(keep=False)).sum()\n"
   ]
  },
  {
   "cell_type": "code",
   "execution_count": null,
   "id": "2fd9f283",
   "metadata": {},
   "outputs": [],
   "source": []
  },
  {
   "cell_type": "code",
   "execution_count": null,
   "id": "41077437fed6dff8",
   "metadata": {
    "ExecuteTime": {
     "end_time": "2023-08-21T06:00:44.428166047Z",
     "start_time": "2023-08-21T06:00:44.273806008Z"
    }
   },
   "outputs": [],
   "source": [
    "df[\"dato\"] = pd.to_datetime(df[\"dato\"], format=\"%d%m%Y\") "
   ]
  },
  {
   "cell_type": "code",
   "execution_count": null,
   "id": "97798325db844c96",
   "metadata": {
    "ExecuteTime": {
     "end_time": "2023-08-21T06:00:44.558007723Z",
     "start_time": "2023-08-21T06:00:44.356595198Z"
    }
   },
   "outputs": [],
   "source": [
    "df[\"dato\"]"
   ]
  },
  {
   "cell_type": "code",
   "execution_count": null,
   "id": "e78c2a99",
   "metadata": {},
   "outputs": [],
   "source": [
    "df = df.sort_values(\"dato\", ascending=False)"
   ]
  },
  {
   "cell_type": "code",
   "execution_count": null,
   "id": "9533e0f6",
   "metadata": {},
   "outputs": [],
   "source": [
    "df[[\"navn\",\"dato\"]]"
   ]
  },
  {
   "cell_type": "code",
   "execution_count": null,
   "id": "aaa75105a30247d4",
   "metadata": {
    "ExecuteTime": {
     "end_time": "2023-08-21T06:00:44.612424854Z",
     "start_time": "2023-08-21T06:00:44.401478246Z"
    }
   },
   "outputs": [],
   "source": [
    "bakeri = df[\"navn\"].str.contains(\"Bakeri\")\n",
    "bakeri"
   ]
  },
  {
   "cell_type": "code",
   "execution_count": null,
   "id": "89da8cbf0448d55",
   "metadata": {
    "ExecuteTime": {
     "end_time": "2023-08-21T06:00:44.612882220Z",
     "start_time": "2023-08-21T06:00:44.449671350Z"
    }
   },
   "outputs": [],
   "source": [
    "bakeri.sum()"
   ]
  },
  {
   "cell_type": "code",
   "execution_count": null,
   "id": "fb5bf4947510e2f2",
   "metadata": {
    "ExecuteTime": {
     "end_time": "2023-08-21T06:00:44.689967645Z",
     "start_time": "2023-08-21T06:00:44.449912937Z"
    }
   },
   "outputs": [],
   "source": [
    "df[bakeri]"
   ]
  },
  {
   "cell_type": "code",
   "execution_count": null,
   "id": "6215bd6f8464fd2e",
   "metadata": {
    "ExecuteTime": {
     "end_time": "2023-08-21T06:00:44.691270753Z",
     "start_time": "2023-08-21T06:00:44.498935244Z"
    }
   },
   "outputs": [],
   "source": [
    "bakeri_lower = df[\"navn\"].str.lower().str.contains(\"bakeri\")"
   ]
  },
  {
   "cell_type": "code",
   "execution_count": null,
   "id": "ab7339374bc1d7f2",
   "metadata": {
    "ExecuteTime": {
     "end_time": "2023-08-21T06:00:44.691832002Z",
     "start_time": "2023-08-21T06:00:44.545481897Z"
    }
   },
   "outputs": [],
   "source": [
    "bakeri_lower.sum()"
   ]
  },
  {
   "cell_type": "code",
   "execution_count": null,
   "id": "bc5673ea89a35078",
   "metadata": {
    "ExecuteTime": {
     "end_time": "2023-08-21T06:00:44.787643321Z",
     "start_time": "2023-08-21T06:00:44.545716719Z"
    }
   },
   "outputs": [],
   "source": [
    "df[bakeri_lower]"
   ]
  },
  {
   "cell_type": "code",
   "execution_count": null,
   "id": "596bea9cebd878df",
   "metadata": {
    "ExecuteTime": {
     "end_time": "2023-08-21T06:00:44.787940703Z",
     "start_time": "2023-08-21T06:00:44.589375925Z"
    }
   },
   "outputs": [],
   "source": [
    "df[\"count\"] = 1"
   ]
  },
  {
   "cell_type": "code",
   "execution_count": null,
   "id": "f8fe73254a64188d",
   "metadata": {
    "ExecuteTime": {
     "end_time": "2023-08-21T06:00:46.013043289Z",
     "start_time": "2023-08-21T06:00:44.589519184Z"
    }
   },
   "outputs": [],
   "source": [
    "dfgr = df.groupby(by=[\"orgnummer\",\"navn\", \"poststed\"]).agg(\n",
    "    {\"count\":lambda x:x.sum(),\n",
    "     \"total_karakter\":lambda x:x.mean()})\n",
    "dfgr"
   ]
  },
  {
   "cell_type": "code",
   "execution_count": null,
   "id": "9ce488802c9a5002",
   "metadata": {
    "ExecuteTime": {
     "end_time": "2023-08-21T06:00:46.051197816Z",
     "start_time": "2023-08-21T06:00:45.981906214Z"
    }
   },
   "outputs": [],
   "source": [
    "dfgr = dfgr.sort_values(by=\"total_karakter\", ascending=False)\n",
    "dfgr"
   ]
  },
  {
   "cell_type": "code",
   "execution_count": null,
   "id": "b7913d5be71d9d8d",
   "metadata": {
    "ExecuteTime": {
     "end_time": "2023-08-21T06:00:46.051654396Z",
     "start_time": "2023-08-21T06:00:46.021565180Z"
    }
   },
   "outputs": [],
   "source": [
    "dfgr.columns"
   ]
  },
  {
   "cell_type": "code",
   "execution_count": null,
   "id": "bc44da97df57f3f2",
   "metadata": {
    "ExecuteTime": {
     "end_time": "2023-08-21T06:00:46.051845549Z",
     "start_time": "2023-08-21T06:00:46.021815384Z"
    }
   },
   "outputs": [],
   "source": [
    "dfgr = dfgr.reset_index(drop=False)"
   ]
  },
  {
   "cell_type": "code",
   "execution_count": null,
   "id": "e4d6735fda8d00f4",
   "metadata": {
    "ExecuteTime": {
     "end_time": "2023-08-21T06:00:46.198786152Z",
     "start_time": "2023-08-21T06:00:46.021963114Z"
    }
   },
   "outputs": [],
   "source": [
    "dfgr"
   ]
  },
  {
   "cell_type": "code",
   "execution_count": null,
   "id": "8f7f4174",
   "metadata": {},
   "outputs": [],
   "source": [
    "dfgr[\"navn\"]"
   ]
  },
  {
   "cell_type": "code",
   "execution_count": null,
   "id": "2f350a8e60ecc89a",
   "metadata": {
    "ExecuteTime": {
     "end_time": "2023-08-21T06:00:46.200180326Z",
     "start_time": "2023-08-21T06:00:46.065444901Z"
    }
   },
   "outputs": [],
   "source": [
    "dfgr[dfgr[\"poststed\"] == \"HORTEN\"]"
   ]
  },
  {
   "cell_type": "code",
   "execution_count": null,
   "id": "348845fd",
   "metadata": {
    "ExecuteTime": {
     "end_time": "2023-08-21T06:00:46.798715786Z",
     "start_time": "2023-08-21T06:00:46.065695642Z"
    }
   },
   "outputs": [],
   "source": [
    "df.to_csv(\"out.csv\", index=False)"
   ]
  },
  {
   "cell_type": "code",
   "execution_count": null,
   "id": "b0790a68a3873a93",
   "metadata": {
    "ExecuteTime": {
     "end_time": "2023-08-21T06:00:47.326352134Z",
     "start_time": "2023-08-21T06:00:46.799450536Z"
    }
   },
   "outputs": [],
   "source": [
    "df2 = pd.read_csv(\"out.csv\")\n",
    "df2"
   ]
  },
  {
   "cell_type": "markdown",
   "id": "d1bd29a6",
   "metadata": {},
   "source": [
    "## Writing data - to Parquet"
   ]
  },
  {
   "cell_type": "code",
   "execution_count": null,
   "id": "28f52eeb",
   "metadata": {
    "ExecuteTime": {
     "end_time": "2023-08-21T06:00:47.503779387Z",
     "start_time": "2023-08-21T06:00:47.307020070Z"
    }
   },
   "outputs": [],
   "source": [
    "df.to_parquet(\"out.parquet\")"
   ]
  },
  {
   "cell_type": "code",
   "execution_count": null,
   "id": "98ef7592ed8c3fa8",
   "metadata": {
    "ExecuteTime": {
     "end_time": "2023-08-21T06:00:47.646681296Z",
     "start_time": "2023-08-21T06:00:47.448969311Z"
    }
   },
   "outputs": [],
   "source": [
    "df3 = pd.read_parquet(\"out.parquet\")\n",
    "df3"
   ]
  },
  {
   "cell_type": "markdown",
   "id": "0186f8e3",
   "metadata": {},
   "source": [
    "# Anatomy of a dataframe"
   ]
  },
  {
   "cell_type": "markdown",
   "id": "f8788945",
   "metadata": {},
   "source": [
    "## Series"
   ]
  },
  {
   "cell_type": "code",
   "execution_count": null,
   "id": "91d78c45",
   "metadata": {
    "ExecuteTime": {
     "end_time": "2023-08-21T06:00:47.671914138Z",
     "start_time": "2023-08-21T06:00:47.621501317Z"
    }
   },
   "outputs": [],
   "source": [
    "s = pd.Series([i for i in range(0,3000)])\n",
    "s"
   ]
  },
  {
   "cell_type": "markdown",
   "id": "c25a2942",
   "metadata": {},
   "source": [
    "## Selecting multiple series (a DataFrame)"
   ]
  },
  {
   "cell_type": "code",
   "execution_count": null,
   "id": "e3aa131811b12194",
   "metadata": {
    "ExecuteTime": {
     "end_time": "2023-08-21T06:00:47.672573723Z",
     "start_time": "2023-08-21T06:00:47.621746481Z"
    }
   },
   "outputs": [],
   "source": [
    "df[\"navn\"]"
   ]
  },
  {
   "cell_type": "code",
   "execution_count": null,
   "id": "74f179b0a8b3b33f",
   "metadata": {
    "ExecuteTime": {
     "end_time": "2023-08-21T06:00:47.673065490Z",
     "start_time": "2023-08-21T06:00:47.621898064Z"
    }
   },
   "outputs": [],
   "source": [
    "df[[\"navn\"]]"
   ]
  },
  {
   "cell_type": "markdown",
   "id": "f6997f58",
   "metadata": {},
   "source": [
    "## Built-in functions"
   ]
  },
  {
   "cell_type": "code",
   "execution_count": null,
   "id": "6daf3257bb5e6d3e",
   "metadata": {
    "ExecuteTime": {
     "end_time": "2023-08-21T06:04:51.841055305Z",
     "start_time": "2023-08-21T06:04:51.680797293Z"
    }
   },
   "outputs": [],
   "source": [
    "start = time.time()\n",
    "(df[\"total_karakter\"] == 3).sum()\n",
    "end = time.time()\n",
    "print(f\"Builtin (ufunc) took {str(round(end-start, 10))} seconds\")\n"
   ]
  },
  {
   "cell_type": "markdown",
   "id": "f958a7f9",
   "metadata": {},
   "source": [
    "## Avoid iteration if you can"
   ]
  },
  {
   "cell_type": "code",
   "execution_count": null,
   "id": "385a6dcba1726f01",
   "metadata": {
    "ExecuteTime": {
     "end_time": "2023-08-21T06:06:03.121512951Z",
     "start_time": "2023-08-21T06:06:02.881187637Z"
    }
   },
   "outputs": [],
   "source": [
    "start = time.time()\n",
    "c = 0\n",
    "for k in df[\"total_karakter\"]:\n",
    "    if k == 3:\n",
    "        c += 1\n",
    "end = time.time()\n",
    "print(f\"Iteration method took {str(round(end-start, 10))} seconds\")\n"
   ]
  },
  {
   "cell_type": "markdown",
   "id": "537476c320b38c8f",
   "metadata": {},
   "source": [
    "## Pandas and numpy"
   ]
  },
  {
   "cell_type": "code",
   "execution_count": null,
   "id": "a238135dffd8d892",
   "metadata": {
    "ExecuteTime": {
     "end_time": "2023-08-21T06:07:05.027752390Z",
     "start_time": "2023-08-21T06:07:04.910956415Z"
    }
   },
   "outputs": [],
   "source": [
    "df[[\"orgnummer\", \"total_karakter\"]].to_numpy()"
   ]
  },
  {
   "cell_type": "markdown",
   "id": "64b1f0a8eddadbb",
   "metadata": {},
   "source": [
    "## Oppgaver:\n",
    "1. Finn gjennomsnittlig antall kontroller pr år\n",
    "2. Finn spisestedet som har blitt kontrollert flest ganger pr. år - hvilket år var dette i? \n",
    "3. Hvilke av de store kjedene (maccern, kurger bing, peppes, pizzabakeren) gjør det best (på tvers av lokasjoner)?\n",
    "4. Bruk data om kravpunkter til å finne ut hvilke restauranter som har slitt mest med håndvask: https://hotell.difi.no/?dataset=mattilsynet/smilefjes/kravpunkter"
   ]
  },
  {
   "cell_type": "markdown",
   "id": "e657cbd1df170f74",
   "metadata": {},
   "source": [
    "## Flere oppgaver\n",
    "\n",
    "Hent datasettet fra: \n",
    "\n",
    "https://pvdata.nist.gov/\n",
    "\n",
    "Data-beskrivelse finnes her:\n",
    "\n",
    "https://www.nist.gov/system/files/documents/2017/10/04/datadictionary_supplementalcontent.pdf\n",
    "\n",
    "Hent zip-fil for ground (bulk download) for et år. \n",
    "Pakk ut.\n",
    "\n",
    "1. Skriv prosedyre som leser inn disse som dataframe, parser datoer riktig, konkatenerer de, og lagrer som en stor .parquet.\n",
    "2. Finn gjennomsnittlig døgnproduksjon pr. string combiner (ShuntEtot_kWh_Avg(i))\n",
    "3. Bruk df.plot() til å plotte gjennomsnittlig døgnproduksjon for de ulike string combinerne gjennom året. \n"
   ]
  },
  {
   "cell_type": "code",
   "execution_count": null,
   "id": "67f5ea8cd708a2a9",
   "metadata": {},
   "outputs": [],
   "source": []
  }
 ],
 "metadata": {
  "kernelspec": {
   "display_name": "Python 3 (ipykernel)",
   "language": "python",
   "name": "python3"
  },
  "language_info": {
   "codemirror_mode": {
    "name": "ipython",
    "version": 3
   },
   "file_extension": ".py",
   "mimetype": "text/x-python",
   "name": "python",
   "nbconvert_exporter": "python",
   "pygments_lexer": "ipython3",
   "version": "3.10.12"
  }
 },
 "nbformat": 4,
 "nbformat_minor": 5
}
