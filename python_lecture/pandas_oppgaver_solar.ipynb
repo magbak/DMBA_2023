{
 "cells": [
  {
   "cell_type": "code",
   "execution_count": null,
   "id": "7a689e34",
   "metadata": {},
   "outputs": [],
   "source": [
    "import os\n",
    "import pandas as pd\n",
    "#import polars as pl\n",
    "from pathlib import Path\n",
    "from os import listdir"
   ]
  },
  {
   "cell_type": "markdown",
   "id": "fb064b7f",
   "metadata": {},
   "source": [
    "## Flere oppgaver\n",
    "Hent datasettet fra:\n",
    "\n",
    "https://pvdata.nist.gov/\n",
    "\n",
    "Data-beskrivelse finnes her:\n",
    "\n",
    "https://www.nist.gov/system/files/documents/2017/10/04/datadictionary_supplementalcontent.pdf\n",
    "\n",
    "Hent zip-fil for ground (bulk download) for et år. Pakk ut.\n",
    "\n",
    "1. Skriv prosedyre som leser inn disse som dataframe, parser datoer riktig, konkatenerer de, og lagrer som en stor .parquet.\n",
    "2. Finn gjennomsnittlig døgnproduksjon pr. string (ShuntEtot_kWh_Avg(i))\n",
    "3. Bruk df.plot() til å plotte døgnproduksjon for de ulike string combinerne gjennom året."
   ]
  },
  {
   "cell_type": "markdown",
   "id": "840d014f",
   "metadata": {},
   "source": [
    "## Oppgave 1: Under følger en del hint for å lese inn og skrive parquet\n",
    "- Bruk os.listdir(mappe_string) \n",
    "- Du trenger antakelig skrive noen nøstede for-løkker for å hente ut alle filnavnene.. \n",
    "- Les inn dataframe med pd.read_csv() og parse opp datoen.. se pandas-introen for eksempel. \n",
    "- Lag en liste df_list = [] hvor du putter alle dfene du har parsa.\n",
    "- df = pd.concat(df_list) \n",
    "- Sjekk: https://pandas.pydata.org/pandas-docs/stable/reference/api/pandas.concat.html\n",
    "- deretter kan du gjøre df.to_parquet(\"fil.parquet\")"
   ]
  },
  {
   "cell_type": "code",
   "execution_count": null,
   "id": "de692eac",
   "metadata": {},
   "outputs": [],
   "source": [
    "p = Path(\"/home/magbak/repos/DMBA_2023/onemin-Ground-2015\")\n",
    "out = Path(\"/home/magbak/repos/DMBA_2023/\")\n",
    "keep_cols = [\n",
    " 'TIMESTAMP', \n",
    "]\n",
    "kw_cols = [f'ShuntPDC_kW_Avg_{i}' for i in range(1,7+1)]\n",
    "keep_cols += kw_cols"
   ]
  },
  {
   "cell_type": "code",
   "execution_count": null,
   "id": "31c0c4f5",
   "metadata": {},
   "outputs": [],
   "source": [
    "years = listdir(p)\n",
    "dfs = []\n",
    "for y in years:\n",
    "    months = listdir(p / y)\n",
    "    \n",
    "    for m in months:\n",
    "        days = listdir(p / y / m)\n",
    "        for d in days:\n",
    "            \n",
    "            f = p/y/m/d            \n",
    "            df = pd.read_csv(f, usecols=keep_cols)\n",
    "            df[\"TIMESTAMP\"] = pd.to_datetime(df[\"TIMESTAMP\"])\n",
    "            dfs.append(df)\n",
    "        \n",
    "df = pd.concat(dfs)\n",
    "df"
   ]
  },
  {
   "cell_type": "code",
   "execution_count": null,
   "id": "f78788f4",
   "metadata": {},
   "outputs": [],
   "source": [
    "parquet_file = out/\"solar.parquet\"\n",
    "df.to_parquet(parquet_file)"
   ]
  },
  {
   "cell_type": "code",
   "execution_count": null,
   "id": "f1be80ed",
   "metadata": {},
   "outputs": [],
   "source": [
    "df = pd.read_parquet(parquet_file)"
   ]
  },
  {
   "cell_type": "markdown",
   "id": "66085693",
   "metadata": {},
   "source": [
    "## Oppgave 2: Under er noen hint for å beregne gjennomsnittlig døgnproduksjon\n",
    "- Du kan bruke list-comprehension til å lage en rekke kolonnenavn:\n",
    "    `[f\"ShuntEtot_kWh_Avg({i})\" for i in range(1,7+1)]`\n",
    "- Du må lage en hjelpekolonne som har bare datoen:\n",
    "    `df[\"date\"] = df[\"timestamp\"].dt.date`\n",
    "    https://pandas.pydata.org/pandas-docs/stable/reference/api/pandas.Series.dt.date.html\n",
    "- Etter at du har funnet summen av produksjonen over hvert døgn (en groupby og agg) så kan du ta groupby år og så mean av dette for å finne gjennomsnittlig døgnproduksjon."
   ]
  },
  {
   "cell_type": "code",
   "execution_count": null,
   "id": "0ef03b86",
   "metadata": {},
   "outputs": [],
   "source": [
    "df[\"date\"] = df[\"TIMESTAMP\"].dt.date\n",
    "df[\"month\"] = df[\"TIMESTAMP\"].dt.month\n",
    "df[\"year\"] = df[\"TIMESTAMP\"].dt.year\n",
    "df"
   ]
  },
  {
   "cell_type": "code",
   "execution_count": null,
   "id": "24c6181e",
   "metadata": {},
   "outputs": [],
   "source": [
    "kwh_cols = [f'ShuntPDC_kWh_tot_{i}' for i in range(1,7+1)]"
   ]
  },
  {
   "cell_type": "code",
   "execution_count": null,
   "id": "6642ef1d",
   "metadata": {},
   "outputs": [],
   "source": [
    "for (kw, kwh) in zip(kw_cols, kwh_cols):\n",
    "    df[kwh] = df[kw]/6"
   ]
  },
  {
   "cell_type": "code",
   "execution_count": null,
   "id": "389f8c4b",
   "metadata": {},
   "outputs": [],
   "source": [
    "dfgr = df[[\"year\", \"month\", \"date\"]+kwh_cols].groupby([\"year\", \"month\", \"date\"]).sum()"
   ]
  },
  {
   "cell_type": "code",
   "execution_count": null,
   "id": "66fb138e",
   "metadata": {},
   "outputs": [],
   "source": [
    "dfgr"
   ]
  },
  {
   "cell_type": "code",
   "execution_count": null,
   "id": "950edb84",
   "metadata": {},
   "outputs": [],
   "source": [
    "dfgr = dfgr.reset_index(drop=False)\n",
    "dfgr"
   ]
  },
  {
   "cell_type": "code",
   "execution_count": null,
   "id": "3b6bcd3e",
   "metadata": {},
   "outputs": [],
   "source": [
    "dfgr[[\"year\"] + kwh_cols].groupby(\"year\").mean()"
   ]
  },
  {
   "cell_type": "markdown",
   "id": "4eef92bb",
   "metadata": {},
   "source": [
    "## Oppgave 3: Hint for plotting:\n",
    "\n",
    "- y er [f\"ShuntEtot_kWh_Avg({i})\" for i in range(1,7+1)]\n",
    "- x er \"date\"?\n",
    "\n",
    "Har ikke testet dette ennå, så prøv dere fram med apiet. \n",
    "https://pandas.pydata.org/pandas-docs/stable/reference/api/pandas.DataFrame.plot.html"
   ]
  },
  {
   "cell_type": "code",
   "execution_count": null,
   "id": "dd1a60cf",
   "metadata": {},
   "outputs": [],
   "source": [
    "dfgr.plot(\"date\", kwh_cols)"
   ]
  },
  {
   "cell_type": "code",
   "execution_count": null,
   "id": "1146608d",
   "metadata": {},
   "outputs": [],
   "source": [
    "atleast0 = (dfgr[kwh_cols] >= 0)"
   ]
  },
  {
   "cell_type": "code",
   "execution_count": null,
   "id": "1941e358",
   "metadata": {},
   "outputs": [],
   "source": [
    "dfgr[kwh_cols] = dfgr[kwh_cols].where(atleast0, 0)"
   ]
  },
  {
   "cell_type": "code",
   "execution_count": null,
   "id": "bea43cc9",
   "metadata": {},
   "outputs": [],
   "source": [
    "dfmo = dfgr[[\"month\"]+ kwh_cols].groupby(\"month\").sum().reset_index(drop=False)\n",
    "\n",
    "dfmo.plot.bar(\"month\", kwh_cols)"
   ]
  },
  {
   "cell_type": "code",
   "execution_count": null,
   "id": "c0d4a703",
   "metadata": {},
   "outputs": [],
   "source": [
    "months = [\"Jan\", \"Feb\", \"Mar\", \"Apr\", \"May\", \"Jun\", \"Jul\", \"Aug\", \"Sep\", \"Oct\", \"Nov\", \"Dec\"]\n",
    "months_dict = {i+1:m for (i,m) in enumerate(months)}\n",
    "months_dict"
   ]
  },
  {
   "cell_type": "code",
   "execution_count": null,
   "id": "a6498003",
   "metadata": {},
   "outputs": [],
   "source": [
    "dfmo[\"month\"] = dfmo[\"month\"].replace(months_dict)"
   ]
  },
  {
   "cell_type": "code",
   "execution_count": null,
   "id": "73eb8034",
   "metadata": {},
   "outputs": [],
   "source": [
    "strings = [f\"String {i+1}\" for (i,_) in enumerate(kwh_cols)]\n",
    "strings"
   ]
  },
  {
   "cell_type": "code",
   "execution_count": null,
   "id": "e954346f",
   "metadata": {},
   "outputs": [],
   "source": [
    "string_rename_dict = {k:s for (k,s) in zip(kwh_cols, strings)}\n",
    "string_rename_dict"
   ]
  },
  {
   "cell_type": "code",
   "execution_count": null,
   "id": "790ea6f0",
   "metadata": {},
   "outputs": [],
   "source": [
    "dfmo = dfmo.rename(columns=string_rename_dict)\n",
    "dfmo"
   ]
  },
  {
   "cell_type": "code",
   "execution_count": null,
   "id": "b5ff2969",
   "metadata": {},
   "outputs": [],
   "source": [
    "dfmo.plot.bar(\"month\", strings, xlabel=\"Month\", ylabel=\"kWh\").legend(bbox_to_anchor=(1.0, 1.0))"
   ]
  },
  {
   "cell_type": "code",
   "execution_count": null,
   "id": "28107f79",
   "metadata": {},
   "outputs": [],
   "source": []
  }
 ],
 "metadata": {
  "kernelspec": {
   "display_name": "Python 3 (ipykernel)",
   "language": "python",
   "name": "python3"
  },
  "language_info": {
   "codemirror_mode": {
    "name": "ipython",
    "version": 3
   },
   "file_extension": ".py",
   "mimetype": "text/x-python",
   "name": "python",
   "nbconvert_exporter": "python",
   "pygments_lexer": "ipython3",
   "version": "3.10.12"
  }
 },
 "nbformat": 4,
 "nbformat_minor": 5
}
