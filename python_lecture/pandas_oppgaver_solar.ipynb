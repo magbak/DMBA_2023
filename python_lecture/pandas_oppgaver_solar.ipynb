{
 "cells": [
  {
   "cell_type": "code",
   "execution_count": 1,
   "id": "7a689e34",
   "metadata": {},
   "outputs": [],
   "source": [
    "import os\n",
    "import pandas"
   ]
  },
  {
   "cell_type": "markdown",
   "id": "fb064b7f",
   "metadata": {},
   "source": [
    "## Flere oppgaver\n",
    "Hent datasettet fra:\n",
    "\n",
    "https://pvdata.nist.gov/\n",
    "\n",
    "Data-beskrivelse finnes her:\n",
    "\n",
    "https://www.nist.gov/system/files/documents/2017/10/04/datadictionary_supplementalcontent.pdf\n",
    "\n",
    "Hent zip-fil for ground (bulk download) for et år. Pakk ut.\n",
    "\n",
    "1. Skriv prosedyre som leser inn disse som dataframe, parser datoer riktig, konkatenerer de, og lagrer som en stor .parquet.\n",
    "2. Finn gjennomsnittlig døgnproduksjon pr. string (ShuntEtot_kWh_Avg(i))\n",
    "3. Bruk df.plot() til å plotte døgnproduksjon for de ulike string combinerne gjennom året."
   ]
  },
  {
   "cell_type": "markdown",
   "id": "840d014f",
   "metadata": {},
   "source": [
    "## Oppgave 1: Under følger en del hint for å lese inn og skrive parquet\n",
    "- Bruk os.listdir(mappe_string) \n",
    "- Du trenger antakelig skrive noen nøstede for-løkker for å hente ut alle filnavnene.. \n",
    "- Les inn dataframe med pd.read_csv() og parse opp datoen.. se pandas-introen for eksempel. \n",
    "- Lag en liste df_list = [] hvor du putter alle dfene du har parsa.\n",
    "- df = pd.concat(df_list) \n",
    "- Sjekk: https://pandas.pydata.org/pandas-docs/stable/reference/api/pandas.concat.html\n",
    "- deretter kan du gjøre df.to_parquet(\"fil.parquet\")"
   ]
  },
  {
   "cell_type": "markdown",
   "id": "66085693",
   "metadata": {},
   "source": [
    "## Oppgave 2: Under er noen hint for å beregne gjennomsnittlig døgnproduksjon\n",
    "- Du kan bruke list-comprehension til å lage en rekke kolonnenavn:\n",
    "    `[f\"ShuntEtot_kWh_Avg({i})\" for i in range(1,7+1)]`\n",
    "- Du må lage en hjelpekolonne som har bare datoen:\n",
    "    `df[\"date\"] = df[\"timestamp\"].dt.date`\n",
    "    https://pandas.pydata.org/pandas-docs/stable/reference/api/pandas.Series.dt.date.html\n",
    "- Etter at du har funnet summen av produksjonen over hvert døgn (en groupby og agg) så kan du ta groupby år og så mean av dette for å finne gjennomsnittlig døgnproduksjon."
   ]
  },
  {
   "cell_type": "markdown",
   "id": "4eef92bb",
   "metadata": {},
   "source": [
    "## Oppgave 3: Hint for plotting:\n",
    "\n",
    "- y er [f\"ShuntEtot_kWh_Avg({i})\" for i in range(1,7+1)]\n",
    "- x er \"date\"?\n",
    "\n",
    "Har ikke testet dette ennå, så prøv dere fram med apiet. \n",
    "https://pandas.pydata.org/pandas-docs/stable/reference/api/pandas.DataFrame.plot.html"
   ]
  },
  {
   "cell_type": "code",
   "execution_count": null,
   "id": "dd1a60cf",
   "metadata": {},
   "outputs": [],
   "source": []
  }
 ],
 "metadata": {
  "kernelspec": {
   "display_name": "Python 3 (ipykernel)",
   "language": "python",
   "name": "python3"
  },
  "language_info": {
   "codemirror_mode": {
    "name": "ipython",
    "version": 3
   },
   "file_extension": ".py",
   "mimetype": "text/x-python",
   "name": "python",
   "nbconvert_exporter": "python",
   "pygments_lexer": "ipython3",
   "version": "3.10.12"
  }
 },
 "nbformat": 4,
 "nbformat_minor": 5
}
